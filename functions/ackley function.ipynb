{
 "cells": [
  {
   "cell_type": "code",
   "execution_count": 1,
   "metadata": {},
   "outputs": [],
   "source": [
    "import pandas as pd\n",
    "import numpy as np\n",
    "import matplotlib.pyplot as plt\n",
    "import os\n",
    "import multiprocessing\n",
    "import os\n",
    "import neat\n",
    "import visualize\n",
    "\n",
    "import warnings\n",
    "os.environ[\"PATH\"] += os.pathsep + 'C:/Program Files (x86)/Graphviz2.38/bin/'\n",
    "\n",
    "def eval_genome(genome, config):\n",
    "    \"\"\"\n",
    "    This function will be run in parallel by ParallelEvaluator.  It takes two\n",
    "    arguments (a single genome and the genome class configuration data) and\n",
    "    should return one float (that genome's fitness).\n",
    "\n",
    "    Note that this function needs to be in module scope for multiprocessing.Pool\n",
    "    (which is what ParallelEvaluator uses) to find it.  Because of this, make\n",
    "    sure you check for __main__ before executing any code (as we do here in the\n",
    "    last few lines in the file), otherwise you'll have made a fork bomb\n",
    "    instead of a neuroevolution demo. :)\n",
    "    \"\"\"\n",
    "    if_no_connect = True\n",
    "    \n",
    "    net = neat.nn.FeedForwardNetwork.create(genome, config)\n",
    "    error = 0.0\n",
    "    for xi, xo in zip(x_inputs, x_outputs):\n",
    "        output = net.activate(xi)\n",
    "        # error -= (output[0] - xo[0]) ** 2\n",
    "        error -= np.abs(output[0] - xo[0])\n",
    "        if float(output[0]) != 0:\n",
    "            if_no_connect = False\n",
    "    \n",
    "    if if_no_connect:\n",
    "        mse = -20\n",
    "    else:\n",
    "        mse = error/L\n",
    "    # mad = error/L\n",
    "    return mse\n",
    "\n",
    "\n",
    "def run(config_file):\n",
    "    # Load configuration.\n",
    "    config = neat.Config(\n",
    "        neat.DefaultGenome,\n",
    "        neat.DefaultReproduction,\n",
    "        neat.DefaultSpeciesSet,\n",
    "        neat.DefaultStagnation,\n",
    "        config_file,\n",
    "    )\n",
    "\n",
    "    # Create the population, which is the top-level object for a NEAT run.\n",
    "    p = neat.Population(config)\n",
    "\n",
    "    # Add a stdout reporter to show progress in the terminal.\n",
    "    p.add_reporter(neat.StdOutReporter(True))\n",
    "    stats = neat.StatisticsReporter()\n",
    "    p.add_reporter(stats)\n",
    "\n",
    "    # Run for up to 300 generations.\n",
    "    pe = neat.ParallelEvaluator(multiprocessing.cpu_count(), eval_genome)\n",
    "    winner = p.run(pe.evaluate, 100)\n",
    "\n",
    "    return [stats,winner]"
   ]
  },
  {
   "cell_type": "code",
   "execution_count": 2,
   "metadata": {},
   "outputs": [],
   "source": [
    "def ackley(a):\n",
    "    d = len(a)\n",
    "    term1 = - 20 * np.exp(-0.2*np.sqrt(np.sum(a**2)/d))\n",
    "    term2 = - np.exp(np.sum(np.cos(a*2*np.pi))/d)\n",
    "    f = term1 + term2 + 20 + np.exp(1)\n",
    "    return f"
   ]
  },
  {
   "cell_type": "code",
   "execution_count": 22,
   "metadata": {},
   "outputs": [],
   "source": [
    "d = 10\n",
    "\n",
    "x_inputs = []\n",
    "x_outputs = []\n",
    "list_outputs = []\n",
    "\n",
    "for i in range(1000):\n",
    "    A = -32.768\n",
    "    B = 32.768#小数的范围A ~ B\n",
    "    a = np.random.uniform(A,B,d)\n",
    "    x_inputs.append(tuple(a/A))\n",
    "    y = ackley(a)\n",
    "    list_outputs.append(y)\n",
    "\n",
    "for i in range(1000):\n",
    "    x_outputs.append(tuple([list_outputs[i]/np.max(list_outputs)]))"
   ]
  },
  {
   "cell_type": "code",
   "execution_count": 28,
   "metadata": {},
   "outputs": [
    {
     "data": {
      "text/plain": [
       "[(0, 0, 0, 0, 0, 0, 0, 0, 0, 0)]"
      ]
     },
     "execution_count": 28,
     "metadata": {},
     "output_type": "execute_result"
    }
   ],
   "source": [
    "[tuple([0,0,0,0,0,0,0,0,0,0])]"
   ]
  },
  {
   "cell_type": "code",
   "execution_count": 6,
   "metadata": {},
   "outputs": [],
   "source": [
    "A = -32.768\n",
    "B = 32.768#小数的范围A ~ B\n",
    "a = np.random.uniform(A,B,d)\n",
    "x_inputs.append(tuple(a))\n",
    "y = ackley(a)\n",
    "x_outputs.append(tuple([y]))"
   ]
  },
  {
   "cell_type": "code",
   "execution_count": null,
   "metadata": {
    "scrolled": false
   },
   "outputs": [
    {
     "name": "stdout",
     "output_type": "stream",
     "text": [
      "\n",
      " ****** Running generation 0 ****** \n",
      "\n"
     ]
    }
   ],
   "source": [
    "local_dir = os.getcwd()\n",
    "config_path = os.path.join(local_dir, \"config-feedforward\")\n",
    "\n",
    "stats_list = []\n",
    "winner_list = []\n",
    "for i in range(1):\n",
    "    [stats,winner] = run(config_path)\n",
    "    stats_list.append(stats)\n",
    "    winner_list.append(winner)"
   ]
  },
  {
   "cell_type": "code",
   "execution_count": 75,
   "metadata": {},
   "outputs": [
    {
     "data": {
      "image/png": "[encoded data removed]",
      "text/plain": [
       "<Figure size 432x288 with 1 Axes>"
      ]
     },
     "metadata": {},
     "output_type": "display_data"
    }
   ],
   "source": [
    "avg_fitness_list = []\n",
    "best_list = []\n",
    "\n",
    "for i in range(1):\n",
    "    generation = range(len(stats_list[i].get_fitness_mean()))\n",
    "    avg_fitness = np.array(stats_list[i].get_fitness_mean())\n",
    "    avg_fitness_list.append(avg_fitness)\n",
    "    best_fitness = [c.fitness for c in stats_list[i].most_fit_genomes]\n",
    "    best_list.append(best_fitness)\n",
    "\n",
    "    plt.plot(generation, avg_fitness, alpha = 0.4)\n",
    "    #plt.plot(generation, best_fitness, alpha = 0.4)\n",
    "\n",
    "plt.plot(generation, np.average(np.array(avg_fitness_list),axis = 0), label=\"Average\")\n",
    "#plt.plot(generation, np.average(np.array(best_list),axis = 0), label=\"Best\")\n",
    "\n",
    "\n",
    "plt.show()"
   ]
  },
  {
   "cell_type": "code",
   "execution_count": 22,
   "metadata": {},
   "outputs": [
    {
     "data": {
      "image/png": "[encoded data removed]",
      "text/plain": [
       "<Figure size 432x288 with 1 Axes>"
      ]
     },
     "metadata": {},
     "output_type": "display_data"
    }
   ],
   "source": [
    "avg_fitness_list = []\n",
    "best_list = []\n",
    "\n",
    "for i in range(2):\n",
    "    generation = range(len(stats_list[i].get_fitness_mean()))\n",
    "    avg_fitness = np.array(stats_list[i].get_fitness_mean())\n",
    "    avg_fitness_list.append(avg_fitness)\n",
    "    best_fitness = [c.fitness for c in stats_list[i].most_fit_genomes]\n",
    "    best_list.append(best_fitness)\n",
    "\n",
    "    plt.plot(generation, avg_fitness, alpha = 0.4)\n",
    "    plt.plot(generation, best_fitness, alpha = 0.4)\n",
    "\n",
    "plt.plot(generation, np.average(np.array(avg_fitness_list),axis = 0), label=\"Average\")\n",
    "plt.plot(generation, np.average(np.array(best_list),axis = 0), label=\"Best\")\n",
    "\n",
    "\n",
    "plt.show()"
   ]
  },
  {
   "cell_type": "code",
   "execution_count": 12,
   "metadata": {},
   "outputs": [
    {
     "data": {
      "image/svg+xml": [
       "<?xml version=\"1.0\" encoding=\"UTF-8\" standalone=\"no\"?>\n",
       "<!DOCTYPE svg PUBLIC \"-//W3C//DTD SVG 1.1//EN\"\n",
       " \"http://www.w3.org/Graphics/SVG/1.1/DTD/svg11.dtd\">\n",
       "<!-- Generated by graphviz version 2.42.3 (20191010.1750)\n",
       " -->\n",
       "<!-- Title: %3 Pages: 1 -->\n",
       "<svg width=\"280pt\" height=\"90pt\"\n",
       " viewBox=\"0.00 0.00 280.24 89.99\" xmlns=\"http://www.w3.org/2000/svg\" xmlns:xlink=\"http://www.w3.org/1999/xlink\">\n",
       "<g id=\"graph0\" class=\"graph\" transform=\"scale(1 1) rotate(0) translate(4 85.99)\">\n",
       "<title>%3</title>\n",
       "<polygon fill=\"white\" stroke=\"transparent\" points=\"-4,4 -4,-85.99 276.24,-85.99 276.24,4 -4,4\"/>\n",
       "<!-- &#45;1 -->\n",
       "<g id=\"node1\" class=\"node\">\n",
       "<title>&#45;1</title>\n",
       "<polygon fill=\"lightgray\" stroke=\"black\" points=\"23.75,-81.99 -0.25,-81.99 -0.25,-64.99 23.75,-64.99 23.75,-81.99\"/>\n",
       "<text text-anchor=\"middle\" x=\"11.75\" y=\"-70.79\" font-family=\"Times,serif\" font-size=\"9.00\">&#45;1</text>\n",
       "</g>\n",
       "<!-- &#45;2 -->\n",
       "<g id=\"node2\" class=\"node\">\n",
       "<title>&#45;2</title>\n",
       "<polygon fill=\"lightgray\" stroke=\"black\" points=\"64.75,-81.99 40.75,-81.99 40.75,-64.99 64.75,-64.99 64.75,-81.99\"/>\n",
       "<text text-anchor=\"middle\" x=\"52.75\" y=\"-70.79\" font-family=\"Times,serif\" font-size=\"9.00\">&#45;2</text>\n",
       "</g>\n",
       "<!-- &#45;3 -->\n",
       "<g id=\"node3\" class=\"node\">\n",
       "<title>&#45;3</title>\n",
       "<polygon fill=\"lightgray\" stroke=\"black\" points=\"105.75,-81.99 81.75,-81.99 81.75,-64.99 105.75,-64.99 105.75,-81.99\"/>\n",
       "<text text-anchor=\"middle\" x=\"93.75\" y=\"-70.79\" font-family=\"Times,serif\" font-size=\"9.00\">&#45;3</text>\n",
       "</g>\n",
       "<!-- &#45;4 -->\n",
       "<g id=\"node4\" class=\"node\">\n",
       "<title>&#45;4</title>\n",
       "<polygon fill=\"lightgray\" stroke=\"black\" points=\"146.75,-81.99 122.75,-81.99 122.75,-64.99 146.75,-64.99 146.75,-81.99\"/>\n",
       "<text text-anchor=\"middle\" x=\"134.75\" y=\"-70.79\" font-family=\"Times,serif\" font-size=\"9.00\">&#45;4</text>\n",
       "</g>\n",
       "<!-- &#45;5 -->\n",
       "<g id=\"node5\" class=\"node\">\n",
       "<title>&#45;5</title>\n",
       "<polygon fill=\"lightgray\" stroke=\"black\" points=\"187.75,-81.99 163.75,-81.99 163.75,-64.99 187.75,-64.99 187.75,-81.99\"/>\n",
       "<text text-anchor=\"middle\" x=\"175.75\" y=\"-70.79\" font-family=\"Times,serif\" font-size=\"9.00\">&#45;5</text>\n",
       "</g>\n",
       "<!-- &#45;6 -->\n",
       "<g id=\"node6\" class=\"node\">\n",
       "<title>&#45;6</title>\n",
       "<polygon fill=\"lightgray\" stroke=\"black\" points=\"228.75,-81.99 204.75,-81.99 204.75,-64.99 228.75,-64.99 228.75,-81.99\"/>\n",
       "<text text-anchor=\"middle\" x=\"216.75\" y=\"-70.79\" font-family=\"Times,serif\" font-size=\"9.00\">&#45;6</text>\n",
       "</g>\n",
       "<!-- &#45;7 -->\n",
       "<g id=\"node7\" class=\"node\">\n",
       "<title>&#45;7</title>\n",
       "<polygon fill=\"lightgray\" stroke=\"black\" points=\"269.75,-81.99 245.75,-81.99 245.75,-64.99 269.75,-64.99 269.75,-81.99\"/>\n",
       "<text text-anchor=\"middle\" x=\"257.75\" y=\"-70.79\" font-family=\"Times,serif\" font-size=\"9.00\">&#45;7</text>\n",
       "</g>\n",
       "<!-- 0 -->\n",
       "<g id=\"node8\" class=\"node\">\n",
       "<title>0</title>\n",
       "<ellipse fill=\"lightblue\" stroke=\"black\" cx=\"257.75\" cy=\"-14.5\" rx=\"14.49\" ry=\"14.49\"/>\n",
       "<text text-anchor=\"middle\" x=\"257.75\" y=\"-11.8\" font-family=\"Times,serif\" font-size=\"9.00\">0</text>\n",
       "</g>\n",
       "<!-- &#45;7&#45;&gt;0 -->\n",
       "<g id=\"edge1\" class=\"edge\">\n",
       "<title>&#45;7&#45;&gt;0</title>\n",
       "<path fill=\"none\" stroke=\"green\" stroke-width=\"0.18\" d=\"M257.75,-64.57C257.75,-57.97 257.75,-48.23 257.75,-39.16\"/>\n",
       "<polygon fill=\"green\" stroke=\"green\" stroke-width=\"0.18\" points=\"261.25,-39.05 257.75,-29.05 254.25,-39.05 261.25,-39.05\"/>\n",
       "</g>\n",
       "</g>\n",
       "</svg>\n"
      ],
      "text/plain": [
       "<graphviz.dot.Digraph at 0x110499a90>"
      ]
     },
     "execution_count": 12,
     "metadata": {},
     "output_type": "execute_result"
    }
   ],
   "source": [
    "import graphviz\n",
    "draw_net(config, winner_list[0])"
   ]
  },
  {
   "cell_type": "code",
   "execution_count": 10,
   "metadata": {},
   "outputs": [],
   "source": [
    "def draw_net(\n",
    "    config,\n",
    "    genome,\n",
    "    view=False,\n",
    "    filename=None,\n",
    "    node_names=None,\n",
    "    show_disabled=True,\n",
    "    prune_unused=False,\n",
    "    node_colors=None,\n",
    "    fmt=\"png\",\n",
    "):\n",
    "    \"\"\" Receives a genome and draws a neural network with arbitrary topology. \"\"\"\n",
    "    # Attributes for network nodes.\n",
    "    if graphviz is None:\n",
    "        warnings.warn(\n",
    "            \"This display is not available due to a missing optional dependency (graphviz)\"\n",
    "        )\n",
    "        return\n",
    "\n",
    "    if node_names is None:\n",
    "        node_names = {}\n",
    "\n",
    "    assert type(node_names) is dict\n",
    "\n",
    "    if node_colors is None:\n",
    "        node_colors = {}\n",
    "\n",
    "    assert type(node_colors) is dict\n",
    "\n",
    "    node_attrs = {\"shape\": \"circle\", \"fontsize\": \"9\", \"height\": \"0.2\", \"width\": \"0.2\"}\n",
    "\n",
    "    dot = graphviz.Digraph(format=fmt, node_attr=node_attrs)\n",
    "\n",
    "    inputs = set()\n",
    "    for k in config.genome_config.input_keys:\n",
    "        inputs.add(k)\n",
    "        name = node_names.get(k, str(k))\n",
    "        input_attrs = {\n",
    "            \"style\": \"filled\",\n",
    "            \"shape\": \"box\",\n",
    "            \"fillcolor\": node_colors.get(k, \"lightgray\"),\n",
    "        }\n",
    "        dot.node(name, _attributes=input_attrs)\n",
    "\n",
    "    outputs = set()\n",
    "    for k in config.genome_config.output_keys:\n",
    "        outputs.add(k)\n",
    "        name = node_names.get(k, str(k))\n",
    "        node_attrs = {\"style\": \"filled\", \"fillcolor\": node_colors.get(k, \"lightblue\")}\n",
    "\n",
    "        dot.node(name, _attributes=node_attrs)\n",
    "\n",
    "    if prune_unused:\n",
    "        connections = set()\n",
    "        for cg in genome.connections.values():\n",
    "            if cg.enabled or show_disabled:\n",
    "                connections.add((cg.in_node_id, cg.out_node_id))\n",
    "\n",
    "        used_nodes = copy.copy(outputs)\n",
    "        pending = copy.copy(outputs)\n",
    "        while pending:\n",
    "            new_pending = set()\n",
    "            for a, b in connections:\n",
    "                if b in pending and a not in used_nodes:\n",
    "                    new_pending.add(a)\n",
    "                    used_nodes.add(a)\n",
    "            pending = new_pending\n",
    "    else:\n",
    "        used_nodes = set(genome.nodes.keys())\n",
    "\n",
    "    for n in used_nodes:\n",
    "        if n in inputs or n in outputs:\n",
    "            continue\n",
    "\n",
    "        attrs = {\"style\": \"filled\", \"fillcolor\": node_colors.get(n, \"white\")}\n",
    "        dot.node(str(n), _attributes=attrs)\n",
    "\n",
    "    for cg in genome.connections.values():\n",
    "        if cg.enabled or show_disabled:\n",
    "            # if cg.input not in used_nodes or cg.output not in used_nodes:\n",
    "            #    continue\n",
    "            input, output = cg.key\n",
    "            a = node_names.get(input, str(input))\n",
    "            b = node_names.get(output, str(output))\n",
    "            style = \"solid\" if cg.enabled else \"dotted\"\n",
    "            color = \"green\" if cg.weight > 0 else \"red\"\n",
    "            width = str(0.1 + abs(cg.weight / 5.0))\n",
    "            dot.edge(\n",
    "                a, b, _attributes={\"style\": style, \"color\": color, \"penwidth\": width}\n",
    "            )\n",
    "\n",
    "    dot.render(filename, view=view)\n",
    "\n",
    "    return dot"
   ]
  },
  {
   "cell_type": "code",
   "execution_count": null,
   "metadata": {},
   "outputs": [],
   "source": []
  }
 ],
 "metadata": {
  "kernelspec": {
   "display_name": "Python 3",
   "language": "python",
   "name": "python3"
  },
  "language_info": {
   "codemirror_mode": {
    "name": "ipython",
    "version": 3
   },
   "file_extension": ".py",
   "mimetype": "text/x-python",
   "name": "python",
   "nbconvert_exporter": "python",
   "pygments_lexer": "ipython3",
   "version": "3.7.4"
  }
 },
 "nbformat": 4,
 "nbformat_minor": 2
}
