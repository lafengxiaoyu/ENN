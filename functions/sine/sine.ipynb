{
 "cells": [
  {
   "cell_type": "code",
   "execution_count": 12,
   "metadata": {},
   "outputs": [],
   "source": [
    "# . fitness function ----\n",
    "\n",
    "def eval_genomes(genomes, config):\n",
    "    for genome_id, genome in genomes:\n",
    "        genome.fitness = 4.0\n",
    "        net = neat.nn.FeedForwardNetwork.create(genome, config)\n",
    "        for xi in zip(abs(x)):\n",
    "            output = net.activate(xi)\n",
    "            genome.fitness -= (output[0] - xi[0]) ** 2\n",
    "            # print('output:{} real:{}'.format(output[0],xi[0]))\n",
    "\n",
    "\n",
    "# . neat run ----\n",
    "\n",
    "def run(config_file, n = None):\n",
    "    # load configuration\n",
    "    config = neat.Config(neat.DefaultGenome, neat.DefaultReproduction,\n",
    "                       neat.DefaultSpeciesSet, neat.DefaultStagnation,\n",
    "                       config_file)\n",
    "    # create the population, which is the top-level object for a NEAT run\n",
    "    p = neat.Population(config)\n",
    "    # add a stdout reporter to show progress in the terminal\n",
    "    reporter = neat.StdOutReporter(True)\n",
    "    p.add_reporter(reporter)\n",
    "    stats = neat.StatisticsReporter()\n",
    "    p.add_reporter(stats)\n",
    "    checkpointer = neat.Checkpointer(1)\n",
    "    p.add_reporter(checkpointer)\n",
    "    # run for up to n generations\n",
    "    winner = p.run(eval_genomes, n)\n",
    "    return [reporter, stats, winner]"
   ]
  },
  {
   "cell_type": "code",
   "execution_count": 68,
   "metadata": {
    "scrolled": false
   },
   "outputs": [
    {
     "name": "stdout",
     "output_type": "stream",
     "text": [
      "\n",
      " ****** Running generation 0 ****** \n",
      "\n",
      "Population's average fitness: -296.49360 stdev: 140.32803\n",
      "Best fitness: -13.92686 - size: (1, 1) - species 1 - id 69\n",
      "Average adjusted fitness: 0.479\n",
      "Mean genetic distance 1.257, standard deviation 0.567\n",
      "Population of 100 members in 1 species:\n",
      "   ID   age  size  fitness  adj fit  stag\n",
      "  ====  ===  ====  =======  =======  ====\n",
      "     1    0   100    -13.9    0.479     0\n",
      "Total extinctions: 0\n",
      "Generation time: 0.705 sec\n",
      "Saving checkpoint to neat-checkpoint-0\n",
      "\n",
      " ****** Running generation 1 ****** \n",
      "\n",
      "Population's average fitness: -335.14929 stdev: 172.42834\n",
      "Best fitness: -0.03667 - size: (1, 1) - species 1 - id 108\n",
      "Average adjusted fitness: 0.292\n",
      "Mean genetic distance 1.654, standard deviation 0.781\n",
      "Population of 100 members in 2 species:\n",
      "   ID   age  size  fitness  adj fit  stag\n",
      "  ====  ===  ====  =======  =======  ====\n",
      "     1    1    90     -0.0    0.292     0\n",
      "     2    0    10       --       --     0\n",
      "Total extinctions: 0\n",
      "Generation time: 0.478 sec (0.591 average)\n",
      "Saving checkpoint to neat-checkpoint-1\n",
      "\n",
      " ****** Running generation 2 ****** \n",
      "\n",
      "Population's average fitness: -373.13252 stdev: 303.93911\n",
      "Best fitness: -0.03667 - size: (1, 1) - species 1 - id 108\n",
      "Average adjusted fitness: 0.844\n",
      "Mean genetic distance 1.799, standard deviation 0.704\n",
      "Population of 100 members in 2 species:\n",
      "   ID   age  size  fitness  adj fit  stag\n",
      "  ====  ===  ====  =======  =======  ====\n",
      "     1    2    63     -0.0    0.860     1\n",
      "     2    1    37    -28.8    0.827     0\n",
      "Total extinctions: 0\n",
      "Generation time: 0.694 sec (0.626 average)\n",
      "Saving checkpoint to neat-checkpoint-2\n",
      "\n",
      " ****** Running generation 3 ****** \n",
      "\n",
      "Population's average fitness: -528.42777 stdev: 1357.61735\n",
      "Best fitness: -0.03667 - size: (1, 1) - species 1 - id 108\n",
      "Average adjusted fitness: 0.959\n",
      "Mean genetic distance 1.661, standard deviation 0.639\n",
      "Population of 100 members in 2 species:\n",
      "   ID   age  size  fitness  adj fit  stag\n",
      "  ====  ===  ====  =======  =======  ====\n",
      "     1    3    50     -0.0    0.960     2\n",
      "     2    2    50    -27.0    0.958     0\n",
      "Total extinctions: 0\n",
      "Generation time: 0.393 sec (0.567 average)\n",
      "Saving checkpoint to neat-checkpoint-3\n",
      "\n",
      " ****** Running generation 4 ****** \n",
      "\n",
      "Population's average fitness: -611.14608 stdev: 2485.72236\n",
      "Best fitness: -0.03667 - size: (1, 1) - species 1 - id 108\n",
      "Average adjusted fitness: 0.976\n",
      "Mean genetic distance 1.703, standard deviation 0.563\n",
      "Population of 100 members in 2 species:\n",
      "   ID   age  size  fitness  adj fit  stag\n",
      "  ====  ===  ====  =======  =======  ====\n",
      "     1    4    47     -0.0    0.987     3\n",
      "     2    3    53    -19.1    0.964     0\n",
      "Total extinctions: 0\n",
      "Generation time: 0.383 sec (0.530 average)\n",
      "Saving checkpoint to neat-checkpoint-4\n",
      "\n",
      " ****** Running generation 5 ****** \n",
      "\n",
      "Population's average fitness: -468.33706 stdev: 862.39935\n",
      "Best fitness: -0.03667 - size: (1, 1) - species 1 - id 108\n",
      "Average adjusted fitness: 0.938\n",
      "Mean genetic distance 1.625, standard deviation 0.593\n",
      "Population of 100 members in 2 species:\n",
      "   ID   age  size  fitness  adj fit  stag\n",
      "  ====  ===  ====  =======  =======  ====\n",
      "     1    5    49     -0.0    0.926     4\n",
      "     2    4    51    -18.6    0.950     0\n",
      "Total extinctions: 0\n",
      "Generation time: 0.362 sec (0.502 average)\n",
      "Saving checkpoint to neat-checkpoint-5\n",
      "\n",
      " ****** Running generation 6 ****** \n",
      "\n",
      "Population's average fitness: -484.15183 stdev: 777.31060\n",
      "Best fitness: 0.25703 - size: (1, 1) - species 1 - id 651\n",
      "Average adjusted fitness: 0.922\n",
      "Mean genetic distance 1.697, standard deviation 0.543\n",
      "Population of 100 members in 2 species:\n",
      "   ID   age  size  fitness  adj fit  stag\n",
      "  ====  ===  ====  =======  =======  ====\n",
      "     1    6    57      0.3    0.920     0\n",
      "     2    5    43    -17.6    0.924     0\n",
      "Total extinctions: 0\n",
      "Generation time: 0.392 sec (0.487 average)\n",
      "Saving checkpoint to neat-checkpoint-6\n",
      "\n",
      " ****** Running generation 7 ****** \n",
      "\n",
      "Population's average fitness: -491.31769 stdev: 827.41535\n",
      "Best fitness: 3.95683 - size: (4, 5) - species 2 - id 713\n",
      "\n",
      "Best individual in generation 7 meets fitness threshold - complexity: (4, 5)\n"
     ]
    }
   ],
   "source": [
    "### ENVIRONMENT ====\n",
    "\n",
    "### . packages ----\n",
    "\n",
    "import os\n",
    "import neat\n",
    "\n",
    "import numpy as np\n",
    "import matplotlib.pyplot as plt\n",
    "import random\n",
    "\n",
    "\n",
    "### . sample data ----\n",
    "\n",
    "x = np.sin(np.arange(.01, 1000 * .01, .01))\n",
    "\n",
    "\n",
    "### NEAT ALGORITHM ====\n",
    "\n",
    "### . model evolution ----\n",
    "\n",
    "random.seed(1899)\n",
    "[reporter, stats, winner] = run('config-feedforward', n = 25)\n",
    "\n",
    "\n",
    "### . prediction ----\n",
    "\n",
    "## extract winning model\n",
    "config = neat.Config(neat.DefaultGenome, neat.DefaultReproduction,\n",
    "                     neat.DefaultSpeciesSet, neat.DefaultStagnation,\n",
    "                     'config-feedforward')\n",
    "\n",
    "winner_net = neat.nn.FeedForwardNetwork.create(winner, config)"
   ]
  },
  {
   "cell_type": "code",
   "execution_count": 69,
   "metadata": {},
   "outputs": [
    {
     "data": {
      "image/png": "[encoded data removed]",
      "text/plain": [
       "<Figure size 432x288 with 1 Axes>"
      ]
     },
     "metadata": {},
     "output_type": "display_data"
    }
   ],
   "source": [
    "## make predictions\n",
    "y = []\n",
    "for xi in zip(abs(x)):\n",
    "  y.append(winner_net.activate(xi))\n",
    "\n",
    "## if required, adjust signs\n",
    "for i in range(len(y)):\n",
    "  if (x[i] < 0):\n",
    "    y[i] = [x * -1 for x in y[i]]\n",
    "\n",
    "## display sample vs. predicted data\n",
    "plt.scatter(range(len(x)), x, color='#3c8dbc', label = 'observed') # blue\n",
    "plt.scatter(range(len(x)), y, color='#f39c12', label = 'predicted', alpha = 0.1) # orange\n",
    "plt.hlines(0, xmin = 0, xmax = len(x), colors = 'grey', linestyles = 'dashed')\n",
    "plt.xlabel(\"Index\")\n",
    "plt.ylabel(\"Offset\")\n",
    "plt.legend(bbox_to_anchor = (0., 1.02, 1., .102), loc = 10, ncol = 2, mode = None, borderaxespad = 0.)\n",
    "plt.show()\n",
    "plt.clf()"
   ]
  },
  {
   "cell_type": "code",
   "execution_count": 70,
   "metadata": {},
   "outputs": [
    {
     "data": {
      "image/svg+xml": [
       "<?xml version=\"1.0\" encoding=\"UTF-8\" standalone=\"no\"?>\n",
       "<!DOCTYPE svg PUBLIC \"-//W3C//DTD SVG 1.1//EN\"\n",
       " \"http://www.w3.org/Graphics/SVG/1.1/DTD/svg11.dtd\">\n",
       "<!-- Generated by graphviz version 2.42.3 (20191010.1750)\n",
       " -->\n",
       "<!-- Title: %3 Pages: 1 -->\n",
       "<svg width=\"164pt\" height=\"239pt\"\n",
       " viewBox=\"0.00 0.00 163.69 239.07\" xmlns=\"http://www.w3.org/2000/svg\" xmlns:xlink=\"http://www.w3.org/1999/xlink\">\n",
       "<g id=\"graph0\" class=\"graph\" transform=\"scale(1 1) rotate(0) translate(4 235.07)\">\n",
       "<title>%3</title>\n",
       "<polygon fill=\"white\" stroke=\"transparent\" points=\"-4,4 -4,-235.07 159.69,-235.07 159.69,4 -4,4\"/>\n",
       "<!-- &#45;1 -->\n",
       "<g id=\"node1\" class=\"node\">\n",
       "<title>&#45;1</title>\n",
       "<polygon fill=\"lightgray\" stroke=\"black\" points=\"79.01,-231.07 55.01,-231.07 55.01,-214.07 79.01,-214.07 79.01,-231.07\"/>\n",
       "<text text-anchor=\"middle\" x=\"67.01\" y=\"-219.87\" font-family=\"Times,serif\" font-size=\"9.00\">&#45;1</text>\n",
       "</g>\n",
       "<!-- 0 -->\n",
       "<g id=\"node2\" class=\"node\">\n",
       "<title>0</title>\n",
       "<ellipse fill=\"lightblue\" stroke=\"black\" cx=\"18.01\" cy=\"-14.5\" rx=\"14.49\" ry=\"14.49\"/>\n",
       "<text text-anchor=\"middle\" x=\"18.01\" y=\"-11.8\" font-family=\"Times,serif\" font-size=\"9.00\">0</text>\n",
       "</g>\n",
       "<!-- &#45;1&#45;&gt;0 -->\n",
       "<g id=\"edge1\" class=\"edge\">\n",
       "<title>&#45;1&#45;&gt;0</title>\n",
       "<path fill=\"none\" stroke=\"green\" stroke-width=\"0.3\" d=\"M54.88,-215.9C41.78,-209.03 21.63,-196.09 13.01,-178.07 -8.79,-132.53 2.3,-71.3 10.97,-38.51\"/>\n",
       "<polygon fill=\"green\" stroke=\"green\" stroke-width=\"0.3\" points=\"14.43,-39.12 13.77,-28.55 7.7,-37.23 14.43,-39.12\"/>\n",
       "</g>\n",
       "<!-- 121 -->\n",
       "<g id=\"node3\" class=\"node\">\n",
       "<title>121</title>\n",
       "<ellipse fill=\"white\" stroke=\"black\" cx=\"43.01\" cy=\"-157.21\" rx=\"20.72\" ry=\"20.72\"/>\n",
       "<text text-anchor=\"middle\" x=\"43.01\" y=\"-154.51\" font-family=\"Times,serif\" font-size=\"9.00\">121</text>\n",
       "</g>\n",
       "<!-- &#45;1&#45;&gt;121 -->\n",
       "<g id=\"edge5\" class=\"edge\">\n",
       "<title>&#45;1&#45;&gt;121</title>\n",
       "<path fill=\"none\" stroke=\"green\" stroke-width=\"0.3\" d=\"M64.06,-213.8C61.45,-206.89 57.45,-196.34 53.65,-186.29\"/>\n",
       "<polygon fill=\"green\" stroke=\"green\" stroke-width=\"0.3\" points=\"56.92,-185.05 50.1,-176.94 50.37,-187.53 56.92,-185.05\"/>\n",
       "</g>\n",
       "<!-- 92 -->\n",
       "<g id=\"node4\" class=\"node\">\n",
       "<title>92</title>\n",
       "<ellipse fill=\"white\" stroke=\"black\" cx=\"43.01\" cy=\"-82.67\" rx=\"17.86\" ry=\"17.86\"/>\n",
       "<text text-anchor=\"middle\" x=\"43.01\" y=\"-79.97\" font-family=\"Times,serif\" font-size=\"9.00\">92</text>\n",
       "</g>\n",
       "<!-- &#45;1&#45;&gt;92 -->\n",
       "<g id=\"edge3\" class=\"edge\">\n",
       "<title>&#45;1&#45;&gt;92</title>\n",
       "<path fill=\"none\" stroke=\"green\" stroke-width=\"0.16\" stroke-dasharray=\"1,5\" d=\"M69.19,-213.89C73.13,-198.76 80.37,-164.16 73.01,-136.35 70.14,-125.51 64.46,-114.57 58.82,-105.5\"/>\n",
       "<polygon fill=\"green\" stroke=\"green\" stroke-width=\"0.16\" points=\"61.71,-103.53 53.28,-97.11 55.87,-107.38 61.71,-103.53\"/>\n",
       "</g>\n",
       "<!-- 55 -->\n",
       "<g id=\"node5\" class=\"node\">\n",
       "<title>55</title>\n",
       "<ellipse fill=\"white\" stroke=\"black\" cx=\"138.01\" cy=\"-157.21\" rx=\"17.86\" ry=\"17.86\"/>\n",
       "<text text-anchor=\"middle\" x=\"138.01\" y=\"-154.51\" font-family=\"Times,serif\" font-size=\"9.00\">55</text>\n",
       "</g>\n",
       "<!-- &#45;1&#45;&gt;55 -->\n",
       "<g id=\"edge2\" class=\"edge\">\n",
       "<title>&#45;1&#45;&gt;55</title>\n",
       "<path fill=\"none\" stroke=\"green\" stroke-width=\"0.52\" d=\"M75.43,-214.05C85.75,-204.84 103.58,-188.93 117.57,-176.44\"/>\n",
       "<polygon fill=\"green\" stroke=\"green\" stroke-width=\"0.52\" points=\"120.15,-178.83 125.28,-169.56 115.49,-173.61 120.15,-178.83\"/>\n",
       "</g>\n",
       "<!-- 121&#45;&gt;92 -->\n",
       "<g id=\"edge6\" class=\"edge\">\n",
       "<title>121&#45;&gt;92</title>\n",
       "<path fill=\"none\" stroke=\"green\" stroke-width=\"0.38\" d=\"M43.01,-136C43.01,-128.22 43.01,-119.2 43.01,-110.87\"/>\n",
       "<polygon fill=\"green\" stroke=\"green\" stroke-width=\"0.38\" points=\"46.51,-110.82 43.01,-100.82 39.51,-110.82 46.51,-110.82\"/>\n",
       "</g>\n",
       "<!-- 92&#45;&gt;0 -->\n",
       "<g id=\"edge4\" class=\"edge\">\n",
       "<title>92&#45;&gt;0</title>\n",
       "<path fill=\"none\" stroke=\"green\" stroke-width=\"0.43\" d=\"M37.08,-65.99C33.9,-57.57 29.93,-47.04 26.43,-37.79\"/>\n",
       "<polygon fill=\"green\" stroke=\"green\" stroke-width=\"0.43\" points=\"29.69,-36.52 22.88,-28.4 23.14,-38.99 29.69,-36.52\"/>\n",
       "</g>\n",
       "</g>\n",
       "</svg>\n"
      ],
      "text/plain": [
       "<graphviz.dot.Digraph at 0x10e91da90>"
      ]
     },
     "execution_count": 70,
     "metadata": {},
     "output_type": "execute_result"
    }
   ],
   "source": [
    "import visualize\n",
    "visualize.draw_net(config, winner, False,fmt=\"png\")"
   ]
  },
  {
   "cell_type": "code",
   "execution_count": 5,
   "metadata": {},
   "outputs": [
    {
     "data": {
      "text/plain": [
       "<neat.genome.DefaultGenome at 0x10e3b0080>"
      ]
     },
     "execution_count": 5,
     "metadata": {},
     "output_type": "execute_result"
    }
   ],
   "source": [
    "winner"
   ]
  },
  {
   "cell_type": "code",
   "execution_count": 87,
   "metadata": {
    "scrolled": false
   },
   "outputs": [
    {
     "name": "stdout",
     "output_type": "stream",
     "text": [
      "69 -13.926861877780611\n",
      "108 -0.036669409671200984\n",
      "108 -0.036669409671200984\n",
      "108 -0.036669409671200984\n",
      "108 -0.036669409671200984\n",
      "108 -0.036669409671200984\n",
      "651 0.25703165499176317\n"
     ]
    }
   ],
   "source": [
    "filenames = []\n",
    "for i in range(7):\n",
    "    p = neat.Checkpointer.restore_checkpoint('neat-checkpoint-'+str(i))\n",
    "    best_id = find_best_id(p)\n",
    "    print(best_id,p.population[best_id].fitness)\n",
    "    visualize.draw_net(config, p.population[best_id], False, filename=str(i), fmt=\"png\")\n",
    "    filenames.append(str(i)+'.png')\n",
    "    plt.show()"
   ]
  },
  {
   "cell_type": "code",
   "execution_count": 88,
   "metadata": {},
   "outputs": [],
   "source": [
    "import imageio\n",
    "images = []\n",
    "for filename in filenames:\n",
    "    images.append(imageio.imread(filename))\n",
    "imageio.mimsave('movie.gif', images)"
   ]
  },
  {
   "cell_type": "code",
   "execution_count": 51,
   "metadata": {},
   "outputs": [],
   "source": [
    "p = neat.Checkpointer.restore_checkpoint('neat-checkpoint-'+str(0))\n",
    "#print(p.population)\n",
    "\n",
    "#winnerp = p.run(eval_genomes, 0)\n",
    "#print(\"\\nBest genome:\\n{!s}\".format(winnerp))"
   ]
  },
  {
   "cell_type": "code",
   "execution_count": 59,
   "metadata": {},
   "outputs": [],
   "source": [
    "def find_best_id(p):\n",
    "    fitness_list = [] \n",
    "    for i in p.population:\n",
    "        fitness = p.population[i].fitness\n",
    "        if fitness != None:\n",
    "            fitness_list.append(fitness)\n",
    "        else:\n",
    "            fitness_list.append(float(\"-inf\"))\n",
    "    #print(len(fitness_list))\n",
    "    index = fitness_list.index(max(fitness_list))\n",
    "    best_id = list(p.population.keys())[index]\n",
    "    return best_id"
   ]
  },
  {
   "cell_type": "code",
   "execution_count": 54,
   "metadata": {},
   "outputs": [
    {
     "name": "stdout",
     "output_type": "stream",
     "text": [
      "100\n"
     ]
    },
    {
     "data": {
      "text/plain": [
       "69"
      ]
     },
     "execution_count": 54,
     "metadata": {},
     "output_type": "execute_result"
    }
   ],
   "source": [
    "find_best_id(p)"
   ]
  },
  {
   "cell_type": "code",
   "execution_count": 34,
   "metadata": {},
   "outputs": [
    {
     "data": {
      "text/plain": [
       "0"
      ]
     },
     "execution_count": 34,
     "metadata": {},
     "output_type": "execute_result"
    }
   ],
   "source": []
  },
  {
   "cell_type": "code",
   "execution_count": 21,
   "metadata": {},
   "outputs": [
    {
     "name": "stdout",
     "output_type": "stream",
     "text": [
      "Key: 69\n",
      "Fitness: -13.926861877780611\n",
      "Nodes:\n",
      "\t0 DefaultNodeGene(key=0, bias=-0.3075434015636279, response=1.0, activation=sigmoid, aggregation=sum)\n",
      "Connections:\n",
      "\tDefaultConnectionGene(key=(-1, 0), weight=0.9401166016557478, enabled=True)\n"
     ]
    }
   ],
   "source": [
    "print(p.population[69])"
   ]
  },
  {
   "cell_type": "code",
   "execution_count": 136,
   "metadata": {},
   "outputs": [
    {
     "name": "stdout",
     "output_type": "stream",
     "text": [
      "None\n",
      "None\n",
      "None\n",
      "None\n",
      "None\n"
     ]
    }
   ],
   "source": []
  },
  {
   "cell_type": "code",
   "execution_count": 99,
   "metadata": {},
   "outputs": [
    {
     "name": "stdout",
     "output_type": "stream",
     "text": [
      "Key: 391\n",
      "Fitness: 3.8238120765956145\n",
      "Nodes:\n",
      "\t0 DefaultNodeGene(key=0, bias=-0.015392585093011876, response=1.0, activation=relu, aggregation=sum)\n",
      "Connections:\n",
      "\tDefaultConnectionGene(key=(-1, 0), weight=1.0211169825669357, enabled=True)\n"
     ]
    }
   ],
   "source": [
    "print(stats.best_genome())"
   ]
  },
  {
   "cell_type": "code",
   "execution_count": 62,
   "metadata": {},
   "outputs": [
    {
     "name": "stdout",
     "output_type": "stream",
     "text": [
      "\n",
      "Best genome:\n",
      "None\n"
     ]
    }
   ],
   "source": [
    "print(\"\\nBest genome:\\n{!s}\".format(p.run(eval_genomes, 0)))"
   ]
  },
  {
   "cell_type": "code",
   "execution_count": 23,
   "metadata": {},
   "outputs": [
    {
     "name": "stdout",
     "output_type": "stream",
     "text": [
      "Mean genetic distance 1.807, standard deviation 0.603\n",
      "Mean genetic distance 1.896, standard deviation 0.609\n",
      "Mean genetic distance 1.887, standard deviation 0.563\n",
      "Mean genetic distance 1.873, standard deviation 0.601\n",
      "Mean genetic distance 1.868, standard deviation 0.622\n"
     ]
    },
    {
     "data": {
      "image/svg+xml": [
       "<?xml version=\"1.0\" encoding=\"UTF-8\" standalone=\"no\"?>\n",
       "<!DOCTYPE svg PUBLIC \"-//W3C//DTD SVG 1.1//EN\"\n",
       " \"http://www.w3.org/Graphics/SVG/1.1/DTD/svg11.dtd\">\n",
       "<!-- Generated by graphviz version 2.42.3 (20191010.1750)\n",
       " -->\n",
       "<!-- Title: %3 Pages: 1 -->\n",
       "<svg width=\"37pt\" height=\"90pt\"\n",
       " viewBox=\"0.00 0.00 36.99 89.99\" xmlns=\"http://www.w3.org/2000/svg\" xmlns:xlink=\"http://www.w3.org/1999/xlink\">\n",
       "<g id=\"graph0\" class=\"graph\" transform=\"scale(1 1) rotate(0) translate(4 85.99)\">\n",
       "<title>%3</title>\n",
       "<polygon fill=\"white\" stroke=\"transparent\" points=\"-4,4 -4,-85.99 32.99,-85.99 32.99,4 -4,4\"/>\n",
       "<!-- &#45;1 -->\n",
       "<g id=\"node1\" class=\"node\">\n",
       "<title>&#45;1</title>\n",
       "<polygon fill=\"lightgray\" stroke=\"black\" points=\"26.5,-81.99 2.49,-81.99 2.49,-64.99 26.5,-64.99 26.5,-81.99\"/>\n",
       "<text text-anchor=\"middle\" x=\"14.5\" y=\"-70.79\" font-family=\"Times,serif\" font-size=\"9.00\">&#45;1</text>\n",
       "</g>\n",
       "<!-- 0 -->\n",
       "<g id=\"node2\" class=\"node\">\n",
       "<title>0</title>\n",
       "<ellipse fill=\"lightblue\" stroke=\"black\" cx=\"14.5\" cy=\"-14.5\" rx=\"14.49\" ry=\"14.49\"/>\n",
       "<text text-anchor=\"middle\" x=\"14.5\" y=\"-11.8\" font-family=\"Times,serif\" font-size=\"9.00\">0</text>\n",
       "</g>\n",
       "<!-- &#45;1&#45;&gt;0 -->\n",
       "<g id=\"edge1\" class=\"edge\">\n",
       "<title>&#45;1&#45;&gt;0</title>\n",
       "<path fill=\"none\" stroke=\"green\" stroke-width=\"0.3\" d=\"M14.5,-64.57C14.5,-57.97 14.5,-48.23 14.5,-39.16\"/>\n",
       "<polygon fill=\"green\" stroke=\"green\" stroke-width=\"0.3\" points=\"18,-39.05 14.5,-29.05 11,-39.05 18,-39.05\"/>\n",
       "</g>\n",
       "</g>\n",
       "</svg>\n"
      ],
      "text/plain": [
       "<graphviz.dot.Digraph at 0x10e87b048>"
      ]
     },
     "execution_count": 23,
     "metadata": {},
     "output_type": "execute_result"
    }
   ],
   "source": [
    "import visualize\n",
    "visualize.draw_net(config, p.run(eval_genomes, 5), False,fmt=\"png\")"
   ]
  },
  {
   "cell_type": "code",
   "execution_count": 75,
   "metadata": {},
   "outputs": [],
   "source": [
    "def draw_net(\n",
    "    config,\n",
    "    genome,\n",
    "    view=False,\n",
    "    filename=None,\n",
    "    node_names=None,\n",
    "    show_disabled=True,\n",
    "    prune_unused=False,\n",
    "    node_colors=None,\n",
    "    fmt=\"png\",\n",
    "):\n",
    "    \"\"\" Receives a genome and draws a neural network with arbitrary topology. \"\"\"\n",
    "    # Attributes for network nodes.\n",
    "    if graphviz is None:\n",
    "        warnings.warn(\n",
    "            \"This display is not available due to a missing optional dependency (graphviz)\"\n",
    "        )\n",
    "        return\n",
    "\n",
    "    if node_names is None:\n",
    "        node_names = {}\n",
    "\n",
    "    assert type(node_names) is dict\n",
    "\n",
    "    if node_colors is None:\n",
    "        node_colors = {}\n",
    "\n",
    "    assert type(node_colors) is dict\n",
    "\n",
    "    node_attrs = {\"shape\": \"circle\", \"fontsize\": \"9\", \"height\": \"0.2\", \"width\": \"0.2\"}\n",
    "\n",
    "    dot = graphviz.Digraph(format=fmt, node_attr=node_attrs)\n",
    "\n",
    "    inputs = set()\n",
    "    for k in config.genome_config.input_keys:\n",
    "        inputs.add(k)\n",
    "        name = node_names.get(k, str(k))\n",
    "        input_attrs = {\n",
    "            \"style\": \"filled\",\n",
    "            \"shape\": \"box\",\n",
    "            \"fillcolor\": node_colors.get(k, \"lightgray\"),\n",
    "        }\n",
    "        dot.node(name, _attributes=input_attrs)\n",
    "\n",
    "    outputs = set()\n",
    "    for k in config.genome_config.output_keys:\n",
    "        outputs.add(k)\n",
    "        name = node_names.get(k, str(k))\n",
    "        node_attrs = {\"style\": \"filled\", \"fillcolor\": node_colors.get(k, \"lightblue\")}\n",
    "\n",
    "        dot.node(name, _attributes=node_attrs)\n",
    "\n",
    "    if prune_unused:\n",
    "        connections = set()\n",
    "        for cg in genome.connections.values():\n",
    "            if cg.enabled or show_disabled:\n",
    "                connections.add((cg.in_node_id, cg.out_node_id))\n",
    "\n",
    "        used_nodes = copy.copy(outputs)\n",
    "        pending = copy.copy(outputs)\n",
    "        while pending:\n",
    "            new_pending = set()\n",
    "            for a, b in connections:\n",
    "                if b in pending and a not in used_nodes:\n",
    "                    new_pending.add(a)\n",
    "                    used_nodes.add(a)\n",
    "            pending = new_pending\n",
    "    else:\n",
    "        used_nodes = set(genome.nodes.keys())\n",
    "\n",
    "    for n in used_nodes:\n",
    "        if n in inputs or n in outputs:\n",
    "            continue\n",
    "\n",
    "        attrs = {\"style\": \"filled\", \"fillcolor\": node_colors.get(n, \"white\")}\n",
    "        dot.node(str(n), _attributes=attrs)\n",
    "\n",
    "    for cg in genome.connections.values():\n",
    "        if cg.enabled or show_disabled:\n",
    "            # if cg.input not in used_nodes or cg.output not in used_nodes:\n",
    "            #    continue\n",
    "            input, output = cg.key\n",
    "            a = node_names.get(input, str(input))\n",
    "            b = node_names.get(output, str(output))\n",
    "            style = \"solid\" if cg.enabled else \"dotted\"\n",
    "            color = \"green\" if cg.weight > 0 else \"red\"\n",
    "            width = str(0.1 + abs(cg.weight / 5.0))\n",
    "            dot.edge(\n",
    "                a, b, _attributes={\"style\": style, \"color\": color, \"penwidth\": width}\n",
    "            )\n",
    "\n",
    "    dot.render(filename, view=view)\n",
    "\n",
    "    return dot"
   ]
  },
  {
   "cell_type": "code",
   "execution_count": 89,
   "metadata": {},
   "outputs": [],
   "source": [
    "import tensorboard"
   ]
  },
  {
   "cell_type": "code",
   "execution_count": null,
   "metadata": {},
   "outputs": [],
   "source": []
  }
 ],
 "metadata": {
  "kernelspec": {
   "display_name": "Python 3",
   "language": "python",
   "name": "python3"
  },
  "language_info": {
   "codemirror_mode": {
    "name": "ipython",
    "version": 3
   },
   "file_extension": ".py",
   "mimetype": "text/x-python",
   "name": "python",
   "nbconvert_exporter": "python",
   "pygments_lexer": "ipython3",
   "version": "3.6.1"
  }
 },
 "nbformat": 4,
 "nbformat_minor": 2
}
