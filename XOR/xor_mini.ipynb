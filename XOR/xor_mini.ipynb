{
 "cells": [
  {
   "cell_type": "code",
   "execution_count": null,
   "metadata": {},
   "outputs": [],
   "source": [
    "\"\"\"\n",
    "2-input XOR example -- this is most likely the simplest possible example.\n",
    "\"\"\"\n",
    "stats_list = []\n",
    "\n",
    "\n",
    "from __future__ import print_function\n",
    "import neat\n",
    "\n",
    "\n",
    "# 2-input XOR inputs and expected outputs.\n",
    "xor_inputs = [(0.0, 0.0), (0.0, 1.0), (1.0, 0.0), (1.0, 1.0)]\n",
    "xor_outputs = [(0.0,), (1.0,), (1.0,), (0.0,)]\n",
    "\n",
    "\n",
    "def eval_genomes(genomes, config):\n",
    "    for genome_id, genome in genomes:\n",
    "        genome.fitness = 4.0\n",
    "        net = neat.nn.FeedForwardNetwork.create(genome, config)\n",
    "        for xi, xo in zip(xor_inputs, xor_outputs):\n",
    "            output = net.activate(xi)\n",
    "            genome.fitness -= (output[0] - xo[0]) ** 2\n",
    "\n",
    "\n",
    "# Load configuration.\n",
    "config = neat.Config(\n",
    "    neat.DefaultGenome,\n",
    "    neat.DefaultReproduction,\n",
    "    neat.DefaultSpeciesSet,\n",
    "    neat.DefaultStagnation,\n",
    "    \"config-feedforward\",\n",
    ")\n",
    "\n",
    "# Create the population, which is the top-level object for a NEAT run.\n",
    "p = neat.Population(config)\n",
    "\n",
    "# Add a stdout reporter to show progress in the terminal.\n",
    "p.add_reporter(neat.StdOutReporter(True))\n",
    "stats = neat.StatisticsReporter()\n",
    "stats_list.append(stats)\n",
    "p.add_reporter(stats)\n",
    "#p.add_reporter(neat.Checkpointer(5))\n",
    "\n",
    "# Run until a solution is found.\n",
    "winner = p.run(eval_genomes, 200)\n",
    "\n",
    "\n",
    "# Display the winning genome.\n",
    "print(\"\\nBest genome:\\n{!s}\".format(winner))\n",
    "\n",
    "# Show output of the most fit genome against training data.\n",
    "print(\"\\nOutput:\")\n",
    "winner_net = neat.nn.FeedForwardNetwork.create(winner, config)\n",
    "for xi, xo in zip(xor_inputs, xor_outputs):\n",
    "    output = winner_net.activate(xi)\n",
    "    print(\"  input {!r}, expected output {!r}, got {!r}\".format(xi, xo, output))\n",
    "    \n",
    "node_names = {-1: \"A\", -2: \"B\", 0: \"A XOR B\"}\n"
   ]
  },
  {
   "cell_type": "code",
   "execution_count": null,
   "metadata": {},
   "outputs": [],
   "source": [
    "import visualize\n",
    "visualize.draw_net(config, winner, True, node_names=node_names)\n",
    "visualize.plot_stats(stats, ylog=False, view=True)\n",
    "visualize.plot_species(stats, view=True)"
   ]
  }
 ],
 "metadata": {
  "kernelspec": {
   "display_name": "Python 3",
   "language": "python",
   "name": "python3"
  },
  "language_info": {
   "codemirror_mode": {
    "name": "ipython",
    "version": 3
   },
   "file_extension": ".py",
   "mimetype": "text/x-python",
   "name": "python",
   "nbconvert_exporter": "python",
   "pygments_lexer": "ipython3",
   "version": "3.6.1"
  }
 },
 "nbformat": 4,
 "nbformat_minor": 2
}
