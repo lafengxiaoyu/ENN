{
 "cells": [
  {
   "cell_type": "code",
   "execution_count": 54,
   "metadata": {
    "scrolled": false
   },
   "outputs": [
    {
     "name": "stdout",
     "output_type": "stream",
     "text": [
      "\n",
      " ****** Running generation 0 ****** \n",
      "\n",
      "Population's average fitness: 2.21964 stdev: 0.34920\n",
      "Best fitness: 2.99889 - size: (1, 2) - species 1 - id 123\n",
      "Average adjusted fitness: 0.526\n",
      "Mean genetic distance 0.897, standard deviation 0.422\n",
      "Population of 200 members in 1 species:\n",
      "   ID   age  size  fitness  adj fit  stag\n",
      "  ====  ===  ====  =======  =======  ====\n",
      "     1    0   200      3.0    0.526     0\n",
      "Total extinctions: 0\n",
      "Generation time: 0.023 sec\n",
      "Saving checkpoint to neat-checkpoint-0\n",
      "\n",
      " ****** Running generation 1 ****** \n",
      "\n",
      "Population's average fitness: 1.93915 stdev: 1.66521\n",
      "Best fitness: 2.99889 - size: (1, 2) - species 1 - id 123\n",
      "Average adjusted fitness: 0.882\n",
      "Mean genetic distance 1.072, standard deviation 0.456\n",
      "Population of 200 members in 1 species:\n",
      "   ID   age  size  fitness  adj fit  stag\n",
      "  ====  ===  ====  =======  =======  ====\n",
      "     1    1   200      3.0    0.882     1\n",
      "Total extinctions: 0\n",
      "Generation time: 0.023 sec (0.023 average)\n",
      "Saving checkpoint to neat-checkpoint-1\n",
      "\n",
      " ****** Running generation 2 ****** \n",
      "\n",
      "Population's average fitness: 1.55555 stdev: 1.95668\n",
      "Best fitness: 2.99966 - size: (1, 2) - species 1 - id 491\n",
      "Average adjusted fitness: 0.840\n",
      "Mean genetic distance 1.173, standard deviation 0.447\n",
      "Population of 200 members in 1 species:\n",
      "   ID   age  size  fitness  adj fit  stag\n",
      "  ====  ===  ====  =======  =======  ====\n",
      "     1    2   200      3.0    0.840     0\n",
      "Total extinctions: 0\n",
      "Generation time: 0.024 sec (0.023 average)\n",
      "Saving checkpoint to neat-checkpoint-2\n",
      "\n",
      " ****** Running generation 3 ****** \n",
      "\n",
      "Population's average fitness: 1.76192 stdev: 1.86533\n",
      "Best fitness: 2.99975 - size: (1, 2) - species 1 - id 726\n",
      "Average adjusted fitness: 0.862\n",
      "Mean genetic distance 1.195, standard deviation 0.449\n",
      "Population of 200 members in 1 species:\n",
      "   ID   age  size  fitness  adj fit  stag\n",
      "  ====  ===  ====  =======  =======  ====\n",
      "     1    3   200      3.0    0.862     0\n",
      "Total extinctions: 0\n",
      "Generation time: 0.025 sec (0.024 average)\n",
      "Saving checkpoint to neat-checkpoint-3\n",
      "\n",
      " ****** Running generation 4 ****** \n",
      "\n",
      "Population's average fitness: 1.76165 stdev: 1.89009\n",
      "Best fitness: 2.99993 - size: (1, 2) - species 1 - id 812\n",
      "Average adjusted fitness: 0.862\n",
      "Mean genetic distance 1.289, standard deviation 0.465\n",
      "Population of 200 members in 1 species:\n",
      "   ID   age  size  fitness  adj fit  stag\n",
      "  ====  ===  ====  =======  =======  ====\n",
      "     1    4   200      3.0    0.862     0\n",
      "Total extinctions: 0\n",
      "Generation time: 0.025 sec (0.024 average)\n",
      "Saving checkpoint to neat-checkpoint-4\n",
      "\n",
      " ****** Running generation 5 ****** \n",
      "\n",
      "Population's average fitness: 1.87729 stdev: 1.85614\n",
      "Best fitness: 2.99999 - size: (1, 2) - species 1 - id 1174\n",
      "Average adjusted fitness: 0.875\n",
      "Mean genetic distance 1.338, standard deviation 0.455\n",
      "Population of 200 members in 1 species:\n",
      "   ID   age  size  fitness  adj fit  stag\n",
      "  ====  ===  ====  =======  =======  ====\n",
      "     1    5   200      3.0    0.875     0\n",
      "Total extinctions: 0\n",
      "Generation time: 0.044 sec (0.027 average)\n",
      "Saving checkpoint to neat-checkpoint-5\n",
      "\n",
      " ****** Running generation 6 ****** \n",
      "\n",
      "Population's average fitness: 2.07944 stdev: 1.49801\n",
      "Best fitness: 3.00000 - size: (1, 2) - species 1 - id 1274\n",
      "Average adjusted fitness: 0.898\n",
      "Mean genetic distance 1.338, standard deviation 0.466\n",
      "Population of 200 members in 1 species:\n",
      "   ID   age  size  fitness  adj fit  stag\n",
      "  ====  ===  ====  =======  =======  ====\n",
      "     1    6   200      3.0    0.898     0\n",
      "Total extinctions: 0\n",
      "Generation time: 0.027 sec (0.027 average)\n",
      "Saving checkpoint to neat-checkpoint-6\n",
      "\n",
      " ****** Running generation 7 ****** \n",
      "\n",
      "Population's average fitness: 1.98258 stdev: 1.63990\n",
      "Best fitness: 3.00000 - size: (1, 2) - species 1 - id 1520\n",
      "Average adjusted fitness: 0.885\n",
      "Mean genetic distance 1.835, standard deviation 0.704\n",
      "Population of 200 members in 2 species:\n",
      "   ID   age  size  fitness  adj fit  stag\n",
      "  ====  ===  ====  =======  =======  ====\n",
      "     1    7   182      3.0    0.885     0\n",
      "     2    0    18       --       --     0\n",
      "Total extinctions: 0\n",
      "Generation time: 0.027 sec (0.027 average)\n",
      "Saving checkpoint to neat-checkpoint-7\n",
      "\n",
      " ****** Running generation 8 ****** \n",
      "\n",
      "Population's average fitness: 1.79095 stdev: 1.72817\n",
      "Best fitness: 3.00000 - size: (1, 2) - species 1 - id 1520\n",
      "Average adjusted fitness: 0.713\n",
      "Mean genetic distance 1.893, standard deviation 0.709\n",
      "Population of 200 members in 2 species:\n",
      "   ID   age  size  fitness  adj fit  stag\n",
      "  ====  ===  ====  =======  =======  ====\n",
      "     1    8   115      3.0    0.808     1\n",
      "     2    1    85      3.0    0.619     0\n",
      "Total extinctions: 0\n",
      "Generation time: 0.030 sec (0.027 average)\n",
      "Saving checkpoint to neat-checkpoint-8\n",
      "\n",
      " ****** Running generation 9 ****** \n",
      "\n",
      "Population's average fitness: 2.21729 stdev: 1.54884\n",
      "Best fitness: 3.00000 - size: (1, 2) - species 1 - id 1520\n",
      "Average adjusted fitness: 0.914\n",
      "Mean genetic distance 1.787, standard deviation 0.618\n",
      "Population of 200 members in 2 species:\n",
      "   ID   age  size  fitness  adj fit  stag\n",
      "  ====  ===  ====  =======  =======  ====\n",
      "     1    9   101      3.0    0.908     2\n",
      "     2    2    99      3.0    0.919     0\n",
      "Total extinctions: 0\n",
      "Generation time: 0.030 sec (0.028 average)\n",
      "Saving checkpoint to neat-checkpoint-9\n",
      "\n",
      "Best genome:\n",
      "Key: 1520\n",
      "Fitness: 2.9999999729894933\n",
      "Nodes:\n",
      "\t0 DefaultNodeGene(key=0, bias=-1.975821561894815, response=1.0, activation=sigmoid, aggregation=sum)\n",
      "Connections:\n",
      "\tDefaultConnectionGene(key=(-2, 0), weight=3.842663342782372, enabled=True)\n",
      "\tDefaultConnectionGene(key=(-1, 0), weight=-3.658306312572042, enabled=True)\n",
      "\n",
      "Output:\n",
      "input (0.0, 0.0), expected output (0.0,), got [5.1231343159782035e-05]\n",
      "input (0.0, 1.0), expected output (1.0,), got [0.999911658206533]\n",
      "input (1.0, 0.0), expected output (1.0,), got [5.829707552528837e-13]\n",
      "input (1.0, 1.0), expected output (0.0,), got [0.00012877402411764425]\n"
     ]
    },
    {
     "data": {
      "image/png": "[encoded data removed]",
      "text/plain": [
       "<Figure size 432x288 with 1 Axes>"
      ]
     },
     "metadata": {},
     "output_type": "display_data"
    },
    {
     "data": {
      "image/png": "[encoded data removed]",
      "text/plain": [
       "<Figure size 432x288 with 1 Axes>"
      ]
     },
     "metadata": {},
     "output_type": "display_data"
    }
   ],
   "source": [
    "\"\"\"\n",
    "2-input XOR example -- this is most likely the simplest possible example.\n",
    "\"\"\"\n",
    "\n",
    "from __future__ import print_function\n",
    "import os\n",
    "import neat\n",
    "import visualize\n",
    "\n",
    "# 2-input XOR inputs and expected outputs.\n",
    "xor_inputs = [(0.0, 0.0), (0.0, 1.0), (1.0, 0.0), (1.0, 1.0)]\n",
    "xor_outputs = [(0.0,), (1.0,), (1.0,), (0.0,)]\n",
    "\n",
    "\n",
    "def eval_genomes(genomes, config):\n",
    "    for genome_id, genome in genomes:\n",
    "        genome.fitness = 4.0\n",
    "        net = neat.nn.FeedForwardNetwork.create(genome, config)\n",
    "        for xi, xo in zip(xor_inputs, xor_outputs):\n",
    "            output = net.activate(xi)\n",
    "            genome.fitness -= (output[0] - xo[0]) ** 2\n",
    "            \n",
    "\n",
    "\n",
    "def run(config_file):\n",
    "    # Load configuration.\n",
    "    config = neat.Config(\n",
    "        neat.DefaultGenome,\n",
    "        neat.DefaultReproduction,\n",
    "        neat.DefaultSpeciesSet,\n",
    "        neat.DefaultStagnation,\n",
    "        config_file,\n",
    "    )\n",
    "\n",
    "    # Create the population, which is the top-level object for a NEAT run.\n",
    "    p = neat.Population(config)\n",
    "\n",
    "    # Add a stdout reporter to show progress in the terminal.\n",
    "    p.add_reporter(neat.StdOutReporter(True))\n",
    "    stats = neat.StatisticsReporter()\n",
    "    p.add_reporter(stats)\n",
    "    p.add_reporter(neat.Checkpointer(1))\n",
    "\n",
    "    # Run for up to 300 generations.\n",
    "    winner = p.run(eval_genomes, 10)\n",
    "\n",
    "    # Display the winning genome.\n",
    "    print(\"\\nBest genome:\\n{!s}\".format(winner))\n",
    "\n",
    "    # Show output of the most fit genome against training data.\n",
    "    print(\"\\nOutput:\")\n",
    "    winner_net = neat.nn.FeedForwardNetwork.create(winner, config)\n",
    "    for xi, xo in zip(xor_inputs, xor_outputs):\n",
    "        output = winner_net.activate(xi)\n",
    "        print(\"input {!r}, expected output {!r}, got {!r}\".format(xi, xo, output))\n",
    "\n",
    "    node_names = {-1: \"A\", -2: \"B\", 0: \"A XOR B\"}\n",
    "    visualize.draw_net(config, winner, True, node_names=node_names)\n",
    "    visualize.plot_stats(stats, ylog=False, view=True)\n",
    "    visualize.plot_species(stats, view=True)\n",
    "\n",
    "    #p = neat.Checkpointer.restore_checkpoint(\"neat-checkpoint-4\")\n",
    "    #p.run(eval_genomes, 2)\n",
    "\n",
    "\n",
    "if __name__ == \"__main__\":\n",
    "    # Determine path to configuration file. This path manipulation is\n",
    "    # here so that the script will run successfully regardless of the\n",
    "    # current working directory.\n",
    "    local_dir = os.getcwd()\n",
    "    config_path = os.path.join(local_dir, \"config-feedforward\")\n",
    "    run(config_path)"
   ]
  },
  {
   "cell_type": "code",
   "execution_count": 55,
   "metadata": {},
   "outputs": [],
   "source": [
    "config_path = os.path.join(local_dir, \"config-feedforward\")\n",
    "config = neat.Config(\n",
    "    neat.DefaultGenome,\n",
    "    neat.DefaultReproduction,\n",
    "    neat.DefaultSpeciesSet,\n",
    "    neat.DefaultStagnation,\n",
    "    config_path,\n",
    ")"
   ]
  },
  {
   "cell_type": "code",
   "execution_count": 17,
   "metadata": {},
   "outputs": [
    {
     "name": "stdout",
     "output_type": "stream",
     "text": [
      "0\n",
      "72 2.9946309215148466\n",
      "201 None\n",
      "202 None\n",
      "203 None\n",
      "204 None\n",
      "205 None\n",
      "206 None\n",
      "207 None\n",
      "208 None\n",
      "209 None\n",
      "210 None\n",
      "211 None\n",
      "212 None\n",
      "213 None\n",
      "214 None\n",
      "215 None\n",
      "216 None\n",
      "217 None\n",
      "218 None\n",
      "219 None\n",
      "220 None\n",
      "221 None\n",
      "222 None\n",
      "223 None\n",
      "224 None\n",
      "225 None\n",
      "226 None\n",
      "227 None\n",
      "228 None\n",
      "229 None\n",
      "230 None\n",
      "231 None\n",
      "232 None\n",
      "233 None\n",
      "234 None\n",
      "235 None\n",
      "236 None\n",
      "237 None\n",
      "238 None\n",
      "239 None\n",
      "240 None\n",
      "241 None\n",
      "242 None\n",
      "243 None\n",
      "244 None\n",
      "245 None\n",
      "246 None\n",
      "247 None\n",
      "248 None\n",
      "249 None\n",
      "250 None\n",
      "251 None\n",
      "252 None\n",
      "253 None\n",
      "254 None\n",
      "255 None\n",
      "256 None\n",
      "257 None\n",
      "258 None\n",
      "259 None\n",
      "260 None\n",
      "261 None\n",
      "262 None\n",
      "263 None\n",
      "264 None\n",
      "265 None\n",
      "266 None\n",
      "267 None\n",
      "268 None\n",
      "269 None\n",
      "270 None\n",
      "271 None\n",
      "272 None\n",
      "273 None\n",
      "274 None\n",
      "275 None\n",
      "276 None\n",
      "277 None\n",
      "278 None\n",
      "279 None\n",
      "280 None\n",
      "281 None\n",
      "282 None\n",
      "283 None\n",
      "284 None\n",
      "285 None\n",
      "286 None\n",
      "287 None\n",
      "288 None\n",
      "289 None\n",
      "290 None\n",
      "291 None\n",
      "292 None\n",
      "293 None\n",
      "294 None\n",
      "295 None\n",
      "296 None\n",
      "297 None\n",
      "298 None\n",
      "299 None\n",
      "300 None\n",
      "301 None\n",
      "302 None\n",
      "303 None\n",
      "304 None\n",
      "305 None\n",
      "306 None\n",
      "307 None\n",
      "308 None\n",
      "309 None\n",
      "310 None\n",
      "311 None\n",
      "312 None\n",
      "313 None\n",
      "314 None\n",
      "315 None\n",
      "316 None\n",
      "317 None\n",
      "318 None\n",
      "319 None\n",
      "320 None\n",
      "321 None\n",
      "322 None\n",
      "323 None\n",
      "324 None\n",
      "325 None\n",
      "326 None\n",
      "327 None\n",
      "328 None\n",
      "329 None\n",
      "330 None\n",
      "331 None\n",
      "332 None\n",
      "333 None\n",
      "334 None\n",
      "335 None\n",
      "336 None\n",
      "337 None\n",
      "338 None\n",
      "339 None\n",
      "340 None\n",
      "341 None\n",
      "342 None\n",
      "343 None\n",
      "344 None\n",
      "345 None\n",
      "346 None\n",
      "347 None\n",
      "348 None\n",
      "349 None\n",
      "350 None\n",
      "351 None\n",
      "352 None\n",
      "353 None\n",
      "354 None\n",
      "355 None\n",
      "356 None\n",
      "357 None\n",
      "358 None\n",
      "359 None\n",
      "360 None\n",
      "361 None\n",
      "362 None\n",
      "363 None\n",
      "364 None\n",
      "365 None\n",
      "366 None\n",
      "367 None\n",
      "368 None\n",
      "369 None\n",
      "370 None\n",
      "371 None\n",
      "372 None\n",
      "373 None\n",
      "374 None\n",
      "375 None\n",
      "376 None\n",
      "377 None\n",
      "378 None\n",
      "379 None\n",
      "380 None\n",
      "381 None\n",
      "382 None\n",
      "383 None\n",
      "384 None\n",
      "385 None\n",
      "386 None\n",
      "387 None\n",
      "388 None\n",
      "389 None\n",
      "390 None\n",
      "391 None\n",
      "392 None\n",
      "393 None\n",
      "394 None\n",
      "395 None\n",
      "396 None\n",
      "397 None\n",
      "398 None\n",
      "399 None\n"
     ]
    }
   ],
   "source": [
    "for i in range(1):\n",
    "    print(i)\n",
    "    p = neat.Checkpointer.restore_checkpoint('neat-checkpoint-'+str(i))\n",
    "    for each in p.population:\n",
    "        print(each,p.population[each].fitness)\n",
    "        #visualize.draw_net(config, p.population[each], False, filename='xoreach/{}/{}'.format(i,each), fmt=\"jpg\")"
   ]
  },
  {
   "cell_type": "code",
   "execution_count": null,
   "metadata": {},
   "outputs": [],
   "source": [
    "p = neat.Checkpointer.restore_checkpoint('neat-checkpoint-'+str(i))"
   ]
  },
  {
   "cell_type": "code",
   "execution_count": null,
   "metadata": {},
   "outputs": [],
   "source": []
  },
  {
   "cell_type": "code",
   "execution_count": 19,
   "metadata": {},
   "outputs": [
    {
     "name": "stdout",
     "output_type": "stream",
     "text": [
      "Key: 201\n",
      "Fitness: None\n",
      "Nodes:\n",
      "\t0 DefaultNodeGene(key=0, bias=-1.1045847715037316, response=1.0, activation=sigmoid, aggregation=sum)\n",
      "\t1 DefaultNodeGene(key=1, bias=0.5419793060866253, response=1.0, activation=sigmoid, aggregation=sum)\n",
      "Connections:\n",
      "\tDefaultConnectionGene(key=(-2, 0), weight=1.6034869075445732, enabled=True)\n",
      "\tDefaultConnectionGene(key=(-1, 0), weight=-0.8849039999188213, enabled=False)\n",
      "\tDefaultConnectionGene(key=(-1, 1), weight=1.472464128570137, enabled=True)\n",
      "\tDefaultConnectionGene(key=(1, 0), weight=-1.6854688816188337, enabled=True)\n"
     ]
    }
   ],
   "source": [
    "print(p.population[201])"
   ]
  },
  {
   "cell_type": "code",
   "execution_count": 12,
   "metadata": {},
   "outputs": [
    {
     "name": "stdout",
     "output_type": "stream",
     "text": [
      "<class 'neat.genome.DefaultGenome'>\n"
     ]
    }
   ],
   "source": [
    "print(type(p.population[201]))"
   ]
  },
  {
   "cell_type": "code",
   "execution_count": 20,
   "metadata": {},
   "outputs": [],
   "source": [
    "winner_net = neat.nn.FeedForwardNetwork.create(p.population[201], config)"
   ]
  },
  {
   "cell_type": "code",
   "execution_count": 64,
   "metadata": {},
   "outputs": [],
   "source": [
    "def eval_genomes(genomes, config):\n",
    "    fitness_list = []\n",
    "    for genome_id, genome in genomes:\n",
    "        genome.fitness = 4.0\n",
    "        net = neat.nn.FeedForwardNetwork.create(genome, config)\n",
    "        for xi, xo in zip(xor_inputs, xor_outputs):\n",
    "            output = net.activate(xi)\n",
    "            genome.fitness -= (output[0] - xo[0]) ** 2\n",
    "        fitness_list.append(genome.fitness)\n",
    "    avg = np.mean(fitness_list)\n",
    "    std = np.std(fitness_list)\n",
    "    return [avg,std]"
   ]
  },
  {
   "cell_type": "code",
   "execution_count": 65,
   "metadata": {},
   "outputs": [
    {
     "name": "stdout",
     "output_type": "stream",
     "text": [
      "[1.939148806277811, 1.6652149491243142]\n",
      "[1.5555541060715092, 1.9566775413041777]\n",
      "[1.76191862539847, 1.8653253840174413]\n",
      "[1.7616514590809356, 1.8900946652593837]\n",
      "[1.8772939557891664, 1.8561370203014715]\n",
      "[2.079439544819917, 1.4980120569346937]\n",
      "[1.9825842778802143, 1.6399039221340077]\n",
      "[1.7909464341166836, 1.728170746139026]\n",
      "[2.21729126097795, 1.548839559291747]\n",
      "[2.200034496266344, 1.3379788166127313]\n"
     ]
    }
   ],
   "source": [
    "import numpy as np\n",
    "for i in range(10):\n",
    "    p = neat.Checkpointer.restore_checkpoint('neat-checkpoint-'+str(i))\n",
    "    print(eval_genomes(list(p.population.items()), config))"
   ]
  },
  {
   "cell_type": "code",
   "execution_count": 66,
   "metadata": {},
   "outputs": [
    {
     "data": {
      "text/plain": [
       "<neat.genome.DefaultGenome at 0x10e9f0470>"
      ]
     },
     "execution_count": 66,
     "metadata": {},
     "output_type": "execute_result"
    }
   ],
   "source": [
    "p = neat.Checkpointer.restore_checkpoint('neat-checkpoint-'+str(0))\n",
    "p.population[123].fitness"
   ]
  },
  {
   "cell_type": "code",
   "execution_count": 67,
   "metadata": {},
   "outputs": [
    {
     "name": "stdout",
     "output_type": "stream",
     "text": [
      "Key: 123\n",
      "Fitness: 2.998891839483982\n",
      "Nodes:\n",
      "\t0 DefaultNodeGene(key=0, bias=-0.8198704867332949, response=1.0, activation=sigmoid, aggregation=sum)\n",
      "Connections:\n",
      "\tDefaultConnectionGene(key=(-2, 0), weight=1.776267993658669, enabled=True)\n",
      "\tDefaultConnectionGene(key=(-1, 0), weight=-1.6662236280631508, enabled=True)\n"
     ]
    }
   ],
   "source": [
    "print(p.population[123])"
   ]
  },
  {
   "cell_type": "code",
   "execution_count": 70,
   "metadata": {},
   "outputs": [
    {
     "data": {
      "image/svg+xml": [
       "<?xml version=\"1.0\" encoding=\"UTF-8\" standalone=\"no\"?>\n",
       "<!DOCTYPE svg PUBLIC \"-//W3C//DTD SVG 1.1//EN\"\n",
       " \"http://www.w3.org/Graphics/SVG/1.1/DTD/svg11.dtd\">\n",
       "<!-- Generated by graphviz version 2.42.3 (20191010.1750)\n",
       " -->\n",
       "<!-- Title: %3 Pages: 1 -->\n",
       "<svg width=\"72pt\" height=\"90pt\"\n",
       " viewBox=\"0.00 0.00 72.50 89.99\" xmlns=\"http://www.w3.org/2000/svg\" xmlns:xlink=\"http://www.w3.org/1999/xlink\">\n",
       "<g id=\"graph0\" class=\"graph\" transform=\"scale(1 1) rotate(0) translate(4 85.99)\">\n",
       "<title>%3</title>\n",
       "<polygon fill=\"white\" stroke=\"transparent\" points=\"-4,4 -4,-85.99 68.5,-85.99 68.5,4 -4,4\"/>\n",
       "<!-- &#45;1 -->\n",
       "<g id=\"node1\" class=\"node\">\n",
       "<title>&#45;1</title>\n",
       "<polygon fill=\"lightgray\" stroke=\"black\" points=\"23.75,-81.99 -0.25,-81.99 -0.25,-64.99 23.75,-64.99 23.75,-81.99\"/>\n",
       "<text text-anchor=\"middle\" x=\"11.75\" y=\"-70.79\" font-family=\"Times,serif\" font-size=\"9.00\">&#45;1</text>\n",
       "</g>\n",
       "<!-- 0 -->\n",
       "<g id=\"node3\" class=\"node\">\n",
       "<title>0</title>\n",
       "<ellipse fill=\"lightblue\" stroke=\"black\" cx=\"31.75\" cy=\"-14.5\" rx=\"14.49\" ry=\"14.49\"/>\n",
       "<text text-anchor=\"middle\" x=\"31.75\" y=\"-11.8\" font-family=\"Times,serif\" font-size=\"9.00\">0</text>\n",
       "</g>\n",
       "<!-- &#45;1&#45;&gt;0 -->\n",
       "<g id=\"edge1\" class=\"edge\">\n",
       "<title>&#45;1&#45;&gt;0</title>\n",
       "<path fill=\"none\" stroke=\"red\" stroke-width=\"0.43\" d=\"M14.53,-64.57C16.93,-57.74 20.51,-47.53 23.78,-38.2\"/>\n",
       "<polygon fill=\"red\" stroke=\"red\" stroke-width=\"0.43\" points=\"27.14,-39.2 27.15,-28.61 20.53,-36.88 27.14,-39.2\"/>\n",
       "</g>\n",
       "<!-- &#45;2 -->\n",
       "<g id=\"node2\" class=\"node\">\n",
       "<title>&#45;2</title>\n",
       "<polygon fill=\"lightgray\" stroke=\"black\" points=\"64.75,-81.99 40.75,-81.99 40.75,-64.99 64.75,-64.99 64.75,-81.99\"/>\n",
       "<text text-anchor=\"middle\" x=\"52.75\" y=\"-70.79\" font-family=\"Times,serif\" font-size=\"9.00\">&#45;2</text>\n",
       "</g>\n",
       "<!-- &#45;2&#45;&gt;0 -->\n",
       "<g id=\"edge2\" class=\"edge\">\n",
       "<title>&#45;2&#45;&gt;0</title>\n",
       "<path fill=\"none\" stroke=\"green\" stroke-width=\"0.46\" d=\"M49.83,-64.57C47.31,-57.74 43.55,-47.53 40.11,-38.2\"/>\n",
       "<polygon fill=\"green\" stroke=\"green\" stroke-width=\"0.46\" points=\"43.32,-36.78 36.58,-28.61 36.75,-39.2 43.32,-36.78\"/>\n",
       "</g>\n",
       "</g>\n",
       "</svg>\n"
      ],
      "text/plain": [
       "<graphviz.dot.Digraph at 0x10ec7b550>"
      ]
     },
     "execution_count": 70,
     "metadata": {},
     "output_type": "execute_result"
    }
   ],
   "source": [
    "from visualize import draw_net\n",
    "draw_net(config, p.population[123])"
   ]
  },
  {
   "cell_type": "code",
   "execution_count": 72,
   "metadata": {},
   "outputs": [
    {
     "data": {
      "text/plain": [
       "dict_values([<neat.genes.DefaultConnectionGene object at 0x10e9f08d0>, <neat.genes.DefaultConnectionGene object at 0x10e9f05c0>])"
      ]
     },
     "execution_count": 72,
     "metadata": {},
     "output_type": "execute_result"
    }
   ],
   "source": [
    "p.population[123].connections.values()"
   ]
  },
  {
   "cell_type": "code",
   "execution_count": 74,
   "metadata": {},
   "outputs": [
    {
     "name": "stdout",
     "output_type": "stream",
     "text": [
      "DefaultConnectionGene(key=(-1, 0), weight=-1.6662236280631508, enabled=True)\n",
      "DefaultConnectionGene(key=(-2, 0), weight=1.776267993658669, enabled=True)\n"
     ]
    }
   ],
   "source": [
    " for cg in p.population[123].connections.values():\n",
    "        print(cg)"
   ]
  },
  {
   "cell_type": "code",
   "execution_count": null,
   "metadata": {},
   "outputs": [],
   "source": []
  },
  {
   "cell_type": "code",
   "execution_count": 71,
   "metadata": {},
   "outputs": [
    {
     "data": {
      "text/plain": [
       "[1.939148806277811, 1.6652149491243142]"
      ]
     },
     "execution_count": 71,
     "metadata": {},
     "output_type": "execute_result"
    }
   ],
   "source": [
    "eval_genomes(list(p.population.items()), config)"
   ]
  },
  {
   "cell_type": "code",
   "execution_count": null,
   "metadata": {},
   "outputs": [],
   "source": []
  }
 ],
 "metadata": {
  "kernelspec": {
   "display_name": "Python 3",
   "language": "python",
   "name": "python3"
  },
  "language_info": {
   "codemirror_mode": {
    "name": "ipython",
    "version": 3
   },
   "file_extension": ".py",
   "mimetype": "text/x-python",
   "name": "python",
   "nbconvert_exporter": "python",
   "pygments_lexer": "ipython3",
   "version": "3.6.1"
  }
 },
 "nbformat": 4,
 "nbformat_minor": 2
}
