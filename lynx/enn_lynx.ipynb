{
 "cells": [
  {
   "cell_type": "code",
   "execution_count": 15,
   "metadata": {},
   "outputs": [],
   "source": [
    "import pandas as pd\n",
    "df=pd.read_csv('lynx_train_X.csv', sep=' ',header=None)\n",
    "new_train_X = df.values\n",
    "df=pd.read_csv('lynx_train_Y.csv', sep=' ',header=None)\n",
    "new_train_Y = df.values\n",
    "\n",
    "X_train_inputs = []\n",
    "Y_train_outputs = []\n",
    "\n",
    "import os\n",
    "os.environ[\"PATH\"] += os.pathsep + 'C:/Program Files (x86)/Graphviz2.38/bin/'\n",
    "\n",
    "# L = len(new_train_X)\n",
    "L = len(new_train_X)\n",
    "for i in range(L):\n",
    "    X_train_inputs.append(tuple(new_train_X[i]))\n",
    "for i in range(L):\n",
    "    Y_train_outputs.append(tuple(new_train_Y[i]))"
   ]
  },
  {
   "cell_type": "code",
   "execution_count": null,
   "metadata": {},
   "outputs": [],
   "source": [
    "\"\"\"\n",
    "2-input XOR example -- this is most likely the simplest possible example.\n",
    "\"\"\"\n",
    "\n",
    "from __future__ import print_function\n",
    "import neat\n",
    "\n",
    "# 2-input XOR inputs and expected outputs.\n",
    "xor_inputs = X_train_inputs\n",
    "xor_outputs = Y_train_outputs\n",
    "\n",
    "\n",
    "def eval_genomes(genomes, config):\n",
    "    for genome_id, genome in genomes:\n",
    "        genome.fitness = 0.0\n",
    "        net = neat.nn.FeedForwardNetwork.create(genome, config)\n",
    "        for xi, xo in zip(xor_inputs, xor_outputs):\n",
    "            output = net.activate(xi)\n",
    "            genome.fitness -= (output[0] - xo[0]) ** 2\n",
    "        genome.fitness /= len(xor_inputs)"
   ]
  },
  {
   "cell_type": "code",
   "execution_count": null,
   "metadata": {},
   "outputs": [],
   "source": [
    "# Load configuration.\n",
    "config = neat.Config(\n",
    "    neat.DefaultGenome,\n",
    "    neat.DefaultReproduction,\n",
    "    neat.DefaultSpeciesSet,\n",
    "    neat.DefaultStagnation,\n",
    "    \"config-feedforward\",\n",
    ")\n",
    "\n",
    "# Create the population, which is the top-level object for a NEAT run.\n",
    "p = neat.Population(config)\n",
    "\n",
    "# Add a stdout reporter to show progress in the terminal.\n",
    "p.add_reporter(neat.StdOutReporter(False))\n",
    "\n",
    "# Run until a solution is found.\n",
    "winner = p.run(eval_genomes)\n",
    "\n",
    "# Display the winning genome.\n",
    "print(\"\\nBest genome:\\n{!s}\".format(winner))\n",
    "\n",
    "# Show output of the most fit genome against training data.\n",
    "print(\"\\nOutput:\")\n",
    "winner_net = neat.nn.FeedForwardNetwork.create(winner, config)\n",
    "for xi, xo in zip(xor_inputs, xor_outputs):\n",
    "    output = winner_net.activate(xi)\n",
    "    print(\"  input {!r}, expected output {!r}, got {!r}\".format(xi, xo, output))"
   ]
  },
  {
   "cell_type": "code",
   "execution_count": null,
   "metadata": {},
   "outputs": [],
   "source": []
  },
  {
   "cell_type": "code",
   "execution_count": null,
   "metadata": {},
   "outputs": [],
   "source": [
    "import visualize\n",
    "\n",
    "import os\n",
    "os.environ[\"PATH\"] += os.pathsep + 'C:/Program Files (x86)/Graphviz2.38/bin/'\n",
    "stats = neat.StatisticsReporter()"
   ]
  },
  {
   "cell_type": "code",
   "execution_count": null,
   "metadata": {},
   "outputs": [],
   "source": [
    "node_names = {-1: \"-7\", -2: \"-6\", -3: \"-5\", -4:\"-4\", -5:\"-3\", -6:\"-2\", -7:\"-1\",0: \"Target\"}\n",
    "visualize.draw_net(config, winner, True, node_names=node_names)"
   ]
  }
 ],
 "metadata": {
  "kernelspec": {
   "display_name": "Python 3",
   "language": "python",
   "name": "python3"
  },
  "language_info": {
   "codemirror_mode": {
    "name": "ipython",
    "version": 3
   },
   "file_extension": ".py",
   "mimetype": "text/x-python",
   "name": "python",
   "nbconvert_exporter": "python",
   "pygments_lexer": "ipython3",
   "version": "3.7.4"
  }
 },
 "nbformat": 4,
 "nbformat_minor": 2
}
