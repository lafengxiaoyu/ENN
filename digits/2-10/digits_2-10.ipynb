{
 "cells": [
  {
   "cell_type": "code",
   "execution_count": 1,
   "metadata": {},
   "outputs": [],
   "source": [
    "import pandas as pd\n",
    "from collections import defaultdict\n",
    "import warnings\n",
    "import visualize\n",
    "import neat\n",
    "import multiprocessing\n",
    "import os\n",
    "import matplotlib.pyplot as plt\n",
    "\n",
    "import numpy as np\n",
    "\n",
    "from sklearn.datasets import load_digits\n",
    "digits = load_digits()"
   ]
  },
  {
   "cell_type": "code",
   "execution_count": 2,
   "metadata": {},
   "outputs": [
    {
     "data": {
      "image/png": "[encoded data removed]",
      "text/plain": [
       "<Figure size 432x288 with 64 Axes>"
      ]
     },
     "metadata": {},
     "output_type": "display_data"
    }
   ],
   "source": [
    "from random import randint\n",
    "\n",
    "for i in range(64):\n",
    "    ax = plt.subplot(8, 8, i+1)\n",
    "    ax.axis('off')\n",
    "    plt.imshow(digits.images[randint(0, digits.images.shape[0])], cmap='Greys')\n",
    "plt.show()"
   ]
  },
  {
   "cell_type": "code",
   "execution_count": 3,
   "metadata": {},
   "outputs": [],
   "source": [
    "X = digits.images.reshape(digits.images.shape[0], digits.images.shape[1] * digits.images.shape[2])\n",
    "y = digits.target"
   ]
  },
  {
   "cell_type": "code",
   "execution_count": 4,
   "metadata": {},
   "outputs": [],
   "source": [
    "def softmax(x, axis=1):\n",
    "    # 计算每行的最大值\n",
    "    row_max = x.max(axis=axis)\n",
    " \n",
    "    # 每行元素都需要减去对应的最大值，否则求exp(x)会溢出，导致inf情况\n",
    "    row_max=row_max.reshape(-1, 1)\n",
    "    x = x - row_max\n",
    " \n",
    "    # 计算e的指数次幂\n",
    "    x_exp = np.exp(x)\n",
    "    x_sum = np.sum(x_exp, axis=axis, keepdims=True)\n",
    "    s = x_exp / x_sum\n",
    "    return s"
   ]
  },
  {
   "cell_type": "code",
   "execution_count": 5,
   "metadata": {},
   "outputs": [],
   "source": [
    "def eval_genomes(genomes, config):\n",
    "    for genome_id, genome in genomes:\n",
    "        net = neat.nn.FeedForwardNetwork.create(genome, config)\n",
    "        \n",
    "        outputs = []\n",
    "        for xi in x_inputs:\n",
    "            output = net.activate(xi)\n",
    "            outputs.append(output)\n",
    "        \n",
    "        \n",
    "        px_outputs = softmax(np.array(outputs).reshape(samplesize, number_of_classification), axis=1)\n",
    "        # the index of maximum in each line\n",
    "        pred_outputs = np.argmax(px_outputs, axis = 1)\n",
    "        # replace index to real number, from higher number to lower number!!\n",
    "        for i in range(number_of_classification):\n",
    "            index = number_of_classification - i - 1\n",
    "            pred_outputs[pred_outputs==index] = numbers[index]\n",
    "        \n",
    "        real_outputs = np.array(x_outputs).reshape(samplesize,)\n",
    "        \n",
    "        acc = np.sum(pred_outputs == real_outputs)/samplesize\n",
    "\n",
    "        genome.fitness = acc"
   ]
  },
  {
   "cell_type": "code",
   "execution_count": 6,
   "metadata": {},
   "outputs": [],
   "source": [
    "numbers = [*range(10)] # number 2 > number 1\n",
    "number_of_classification = len(numbers)\n",
    "number_of_sampling = 80\n",
    "##？？ 删除number of sampling\n",
    "\n",
    "\n",
    "list_y = y.tolist()\n",
    "digits_indexes = []\n",
    "for digit in numbers:\n",
    "    li = [i for i in range(len(list_y)) if list_y[i] == digit]\n",
    "    digits_indexes.extend(li[:number_of_sampling])\n",
    "\n",
    "samplesize = X[digits_indexes].shape[0]\n",
    "x_inputs =[tuple(c) for c in X[digits_indexes].tolist()]\n",
    "x_outputs = [tuple(c) for c in y[digits_indexes].reshape(samplesize,1).tolist()]"
   ]
  },
  {
   "cell_type": "code",
   "execution_count": null,
   "metadata": {},
   "outputs": [],
   "source": []
  },
  {
   "cell_type": "code",
   "execution_count": 8,
   "metadata": {
    "scrolled": true
   },
   "outputs": [
    {
     "name": "stdout",
     "output_type": "stream",
     "text": [
      "\n",
      " ****** Running generation 0 ****** \n",
      "\n",
      "Population's average fitness: 0.50266 stdev: 0.15991\n",
      "Best fitness: 0.96875 - size: (2, 13) - species 3 - id 144\n",
      "Average adjusted fitness: 0.490\n",
      "Mean genetic distance 2.872, standard deviation 0.477\n",
      "Population of 200 members in 19 species\n",
      "Total extinctions: 0\n",
      "Generation time: 0.731 sec\n",
      "\n",
      " ****** Running generation 1 ****** \n",
      "\n",
      "Population's average fitness: 0.58759 stdev: 0.18201\n",
      "Best fitness: 0.98125 - size: (2, 14) - species 4 - id 349\n",
      "Average adjusted fitness: 0.529\n",
      "Mean genetic distance 2.941, standard deviation 0.473\n",
      "Population of 201 members in 27 species\n",
      "Total extinctions: 0\n",
      "Generation time: 0.735 sec (0.733 average)\n",
      "\n",
      " ****** Running generation 2 ****** \n",
      "\n",
      "Population's average fitness: 0.64646 stdev: 0.18861\n",
      "Best fitness: 0.99375 - size: (2, 14) - species 26 - id 503\n",
      "Average adjusted fitness: 0.538\n",
      "Mean genetic distance 2.993, standard deviation 0.477\n",
      "Population of 199 members in 31 species\n",
      "Total extinctions: 0\n",
      "Generation time: 0.762 sec (0.743 average)\n",
      "\n",
      " ****** Running generation 3 ****** \n",
      "\n",
      "Population's average fitness: 0.66972 stdev: 0.19611\n",
      "Best fitness: 0.99375 - size: (3, 14) - species 19 - id 510\n",
      "Average adjusted fitness: 0.492\n",
      "Mean genetic distance 3.055, standard deviation 0.502\n",
      "Population of 198 members in 32 species\n",
      "Total extinctions: 0\n",
      "Generation time: 0.769 sec (0.749 average)\n",
      "\n",
      " ****** Running generation 4 ****** \n",
      "\n",
      "Population's average fitness: 0.70234 stdev: 0.20588\n",
      "Best fitness: 1.00000 - size: (3, 16) - species 1 - id 780\n",
      "\n",
      "Best individual in generation 4 meets fitness threshold - complexity: (3, 16)\n"
     ]
    }
   ],
   "source": [
    "winner_list = []\n",
    "stats_list = []\n",
    "for i in range(2,3):\n",
    "    numbers = [*range(i)] # number 2 > number 1\n",
    "    number_of_classification = len(numbers)\n",
    "    number_of_sampling = 80\n",
    "\n",
    "    list_y = y.tolist()\n",
    "    digits_indexes = []\n",
    "    for digit in numbers:\n",
    "        li = [i for i in range(len(list_y)) if list_y[i] == digit]\n",
    "        digits_indexes.extend(li[:number_of_sampling])\n",
    "\n",
    "    samplesize = X[digits_indexes].shape[0]\n",
    "    x_inputs =[tuple(c) for c in X[digits_indexes].tolist()]\n",
    "    x_outputs = [tuple(c) for c in y[digits_indexes].reshape(samplesize,1).tolist()]\n",
    "\n",
    "    def run(config_file):\n",
    "        # Load configuration.\n",
    "        config = neat.Config(\n",
    "            neat.DefaultGenome,\n",
    "            neat.DefaultReproduction,\n",
    "            neat.DefaultSpeciesSet,\n",
    "            neat.DefaultStagnation,\n",
    "            config_file,\n",
    "        )\n",
    "\n",
    "        # Create the population, which is the top-level object for a NEAT run.\n",
    "        p = neat.Population(config)\n",
    "\n",
    "        # add a stdout reporter to show progress in the terminal\n",
    "        reporter = neat.StdOutReporter(False)\n",
    "        p.add_reporter(reporter)\n",
    "        stats = neat.StatisticsReporter()\n",
    "        p.add_reporter(stats)\n",
    "        #checkpointer = neat.Checkpointer(100)\n",
    "        #p.add_reporter(checkpointer)\n",
    "        # Run for up to 300 generations.\n",
    "        winner = p.run(eval_genomes, 1500)\n",
    "\n",
    "        return [stats, winner]\n",
    "\n",
    "\n",
    "    samplesize = len(x_outputs)\n",
    "\n",
    "    local_dir = os.getcwd()\n",
    "    config_path = os.path.join(local_dir, \"config-feedforward-mnist\"+str(number_of_classification))\n",
    "    [stats, winner] = run(config_path)\n",
    "    winner_list.append(winner)\n",
    "    stats_list.append(stats)"
   ]
  },
  {
   "cell_type": "code",
   "execution_count": 19,
   "metadata": {},
   "outputs": [
    {
     "data": {
      "text/plain": [
       "[<neat.genome.DefaultGenome at 0x7fac3a546e10>]"
      ]
     },
     "execution_count": 19,
     "metadata": {},
     "output_type": "execute_result"
    }
   ],
   "source": [
    "winner_list"
   ]
  },
  {
   "cell_type": "code",
   "execution_count": null,
   "metadata": {},
   "outputs": [],
   "source": []
  },
  {
   "cell_type": "code",
   "execution_count": 20,
   "metadata": {},
   "outputs": [],
   "source": [
    "#visualize.plot_stats(stats, ylog=False, view=False)"
   ]
  },
  {
   "cell_type": "code",
   "execution_count": 21,
   "metadata": {},
   "outputs": [],
   "source": [
    "best_fitness_list = []\n",
    "avg_fitness_list = []\n",
    "stdev_fitness_list = []"
   ]
  },
  {
   "cell_type": "code",
   "execution_count": 22,
   "metadata": {},
   "outputs": [
    {
     "data": {
      "image/png": "[encoded data removed]",
      "text/plain": [
       "<Figure size 432x288 with 1 Axes>"
      ]
     },
     "metadata": {
      "needs_background": "light"
     },
     "output_type": "display_data"
    }
   ],
   "source": [
    "best_fitness_list = []\n",
    "\n",
    "for i in range(1):\n",
    "    statistics = stats_list[i]\n",
    "\n",
    "    generation = range(len(statistics.most_fit_genomes))\n",
    "    best_fitness = [c.fitness for c in statistics.most_fit_genomes]\n",
    "    avg_fitness = np.array(statistics.get_fitness_mean())\n",
    "    stdev_fitness = np.array(statistics.get_fitness_stdev())\n",
    "    \n",
    "    best_fitness_list.append(best_fitness)\n",
    "    avg_fitness_list.append(avg_fitness)\n",
    "    stdev_fitness_list.append(stdev_fitness)\n",
    "\n",
    "    #plt.plot(generation, avg_fitness, \"b-\", label=\"average\")\n",
    "    #plt.plot(generation, avg_fitness - stdev_fitness, \"g-.\", label=\"-1 sd\")\n",
    "    #plt.plot(generation, avg_fitness + stdev_fitness, \"g-.\", label=\"+1 sd\")\n",
    "    \n",
    "    plt.plot(generation, best_fitness, label=i)\n",
    "\n",
    "plt.title(\"Population's average and best fitness\")\n",
    "plt.xlabel(\"Generations\")\n",
    "plt.ylabel(\"Fitness\")\n",
    "plt.grid()\n",
    "plt.legend(loc=\"best\")\n",
    "plt.show()\n"
   ]
  },
  {
   "cell_type": "code",
   "execution_count": 46,
   "metadata": {},
   "outputs": [],
   "source": [
    "np.save(\"fitness3.npy\",np.array(best_fitness_list[:]))\n",
    "np.save(\"avg3.npy\",np.array(avg_fitness_list[:]))\n",
    "np.save(\"stdev3.npy\",np.array(stdev_fitness_list[:]))"
   ]
  },
  {
   "cell_type": "code",
   "execution_count": null,
   "metadata": {},
   "outputs": [],
   "source": []
  },
  {
   "cell_type": "code",
   "execution_count": null,
   "metadata": {},
   "outputs": [],
   "source": []
  },
  {
   "cell_type": "code",
   "execution_count": null,
   "metadata": {},
   "outputs": [],
   "source": []
  },
  {
   "cell_type": "code",
   "execution_count": 4,
   "metadata": {},
   "outputs": [],
   "source": [
    "# 十次之后2-10分类的准确率\n",
    "num_list = [0.992, 0.8, 0.71, 0.538, 0.47167, 0.44143, 0.37250, 0.30333, 0.29800]\n",
    "name_list = ['2','3','4','5','6','7','8','9','10']\n",
    "plt.bar(range(len(num_list)), num_list, tick_label = name_list, alpha = 0.6)\n",
    "plt.ylim((0, 1))\n",
    "\n",
    "for x, y in zip(range(len(num_list)), num_list):\n",
    "    # ha: horizontal alignment\n",
    "    # va: vertical alignment\n",
    "    plt.text(x , y - 0.06, '%.3f' % y, ha='center', va='bottom')\n",
    "\n",
    "plt.xlabel('Number of classes')\n",
    "plt.ylabel('Accuracy')\n",
    "#plt.show()\n",
    "plt.savefig(\"accuracy.eps\")"
   ]
  },
  {
   "cell_type": "code",
   "execution_count": null,
   "metadata": {},
   "outputs": [],
   "source": []
  },
  {
   "cell_type": "code",
   "execution_count": null,
   "metadata": {},
   "outputs": [],
   "source": []
  },
  {
   "cell_type": "code",
   "execution_count": null,
   "metadata": {},
   "outputs": [],
   "source": []
  },
  {
   "cell_type": "code",
   "execution_count": 52,
   "metadata": {},
   "outputs": [],
   "source": [
    "a = np.load(\"fitness.npy\")\n",
    "b = np.load(\"avg.npy\")\n",
    "c = np.load(\"stdev.npy\")"
   ]
  },
  {
   "cell_type": "code",
   "execution_count": 53,
   "metadata": {},
   "outputs": [],
   "source": [
    "a1 = np.load(\"fitness1.npy\")\n",
    "b1 = np.load(\"avg1.npy\")\n",
    "c1 = np.load(\"stdev1.npy\")"
   ]
  },
  {
   "cell_type": "code",
   "execution_count": 54,
   "metadata": {},
   "outputs": [],
   "source": [
    "a2 = np.load(\"fitness2.npy\")\n",
    "b2 = np.load(\"avg2.npy\")\n",
    "c2 = np.load(\"stdev2.npy\")"
   ]
  },
  {
   "cell_type": "code",
   "execution_count": 57,
   "metadata": {},
   "outputs": [
    {
     "data": {
      "text/plain": [
       "array([[0.28194444, 0.28194444, 0.28194444, ..., 0.47638889, 0.47638889,\n",
       "        0.47638889]])"
      ]
     },
     "execution_count": 57,
     "metadata": {},
     "output_type": "execute_result"
    }
   ],
   "source": [
    "a2"
   ]
  },
  {
   "cell_type": "code",
   "execution_count": 42,
   "metadata": {},
   "outputs": [],
   "source": [
    "list_a = [a,a1,a2]"
   ]
  },
  {
   "cell_type": "code",
   "execution_count": 44,
   "metadata": {},
   "outputs": [
    {
     "data": {
      "text/plain": [
       "array([array([0.61666667, 0.8       , 0.8       , ..., 0.5921875 , 0.5921875 ,\n",
       "       0.5921875 ]),\n",
       "       array([[0.2515625, 0.2859375, 0.340625 , ..., 0.5921875, 0.5921875,\n",
       "        0.5921875]]),\n",
       "       array([], dtype=float64)], dtype=object)"
      ]
     },
     "execution_count": 44,
     "metadata": {},
     "output_type": "execute_result"
    }
   ],
   "source": [
    "np.array(list_a)"
   ]
  },
  {
   "cell_type": "code",
   "execution_count": 45,
   "metadata": {},
   "outputs": [
    {
     "data": {
      "text/plain": [
       "array([], dtype=float64)"
      ]
     },
     "execution_count": 45,
     "metadata": {},
     "output_type": "execute_result"
    }
   ],
   "source": [
    "a2"
   ]
  },
  {
   "cell_type": "code",
   "execution_count": null,
   "metadata": {},
   "outputs": [],
   "source": []
  }
 ],
 "metadata": {
  "kernelspec": {
   "display_name": "Python 3",
   "language": "python",
   "name": "python3"
  },
  "language_info": {
   "codemirror_mode": {
    "name": "ipython",
    "version": 3
   },
   "file_extension": ".py",
   "mimetype": "text/x-python",
   "name": "python",
   "nbconvert_exporter": "python",
   "pygments_lexer": "ipython3",
   "version": "3.6.1"
  }
 },
 "nbformat": 4,
 "nbformat_minor": 2
}
